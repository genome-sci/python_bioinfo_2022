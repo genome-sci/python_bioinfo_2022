{
 "cells": [
  {
   "cell_type": "markdown",
   "metadata": {},
   "source": [
    "# RNA-seqカウントデータの前処理(1)"
   ]
  },
  {
   "cell_type": "markdown",
   "metadata": {},
   "source": [
    "- サンプルごとのカウントデータを1つのカウントテーブルにまとめる"
   ]
  },
  {
   "cell_type": "markdown",
   "metadata": {},
   "source": [
    "### 1. カウントテーブルの作成\n",
    "\n",
    "kallistoではサンプル1個ごとのカウントデータが得られます<br>\n",
    "ほかのツールで処理するときは全部のデータをまとめたほうが扱いやすいので、kallistoのカウント結果 `abundance.tsv` をまとめてひとつのカウントテーブルを作ります"
   ]
  },
  {
   "cell_type": "markdown",
   "metadata": {},
   "source": [
    "必要なモジュールをインポートします"
   ]
  },
  {
   "cell_type": "code",
   "execution_count": 1,
   "metadata": {},
   "outputs": [],
   "source": [
    "import pandas as pd"
   ]
  },
  {
   "cell_type": "markdown",
   "metadata": {},
   "source": [
    "SRAアクセッションを1行ずつ並べた `SRR_Acc_List.txt` を読み込みます"
   ]
  },
  {
   "cell_type": "code",
   "execution_count": 2,
   "metadata": {},
   "outputs": [
    {
     "data": {
      "text/plain": [
       "('SRR17223720',\n",
       " 'SRR17223721',\n",
       " 'SRR17223722',\n",
       " 'SRR17223723',\n",
       " 'SRR17223724',\n",
       " 'SRR17223725')"
      ]
     },
     "execution_count": 2,
     "metadata": {},
     "output_type": "execute_result"
    }
   ],
   "source": [
    "sralib=[i[:-1] for i in open('data/SRR_Acc_List.txt','r')]\n",
    "sralib = tuple(sralib) # 順番を変えたくないのでtupleにする\n",
    "sralib"
   ]
  },
  {
   "cell_type": "markdown",
   "metadata": {},
   "source": [
    "kallistoによるカウント結果　abundance.tsvのPATHのリストを作ります<br>\n",
    "`data`フォルダの下の`kallisto`フォルダに、それぞれの結果フォルダが入っています"
   ]
  },
  {
   "cell_type": "code",
   "execution_count": 3,
   "metadata": {},
   "outputs": [],
   "source": [
    "kallisto_counts=[]\n",
    "for sra in sralib:\n",
    "    kallisto_counts.append('data/kallisto/' + sra + '_exp_kallisto/abundance.tsv')\n",
    "\n",
    "kallisto_counts = tuple(kallisto_counts) # 順番を変えたくないのでtupleにする"
   ]
  },
  {
   "cell_type": "markdown",
   "metadata": {},
   "source": [
    "確認します"
   ]
  },
  {
   "cell_type": "code",
   "execution_count": 4,
   "metadata": {},
   "outputs": [
    {
     "data": {
      "text/plain": [
       "('data/kallisto/SRR17223720_exp_kallisto/abundance.tsv',\n",
       " 'data/kallisto/SRR17223721_exp_kallisto/abundance.tsv',\n",
       " 'data/kallisto/SRR17223722_exp_kallisto/abundance.tsv',\n",
       " 'data/kallisto/SRR17223723_exp_kallisto/abundance.tsv',\n",
       " 'data/kallisto/SRR17223724_exp_kallisto/abundance.tsv',\n",
       " 'data/kallisto/SRR17223725_exp_kallisto/abundance.tsv')"
      ]
     },
     "execution_count": 4,
     "metadata": {},
     "output_type": "execute_result"
    }
   ],
   "source": [
    "kallisto_counts"
   ]
  },
  {
   "cell_type": "markdown",
   "metadata": {},
   "source": [
    "`abundance.tsv`を読み込んで、<br>\n",
    "`estimate_count`列と`tpm`列にSRAアクセッションを追加する処理を、<br>\n",
    "`read_countdata()`という関数にしておきます"
   ]
  },
  {
   "cell_type": "code",
   "execution_count": 5,
   "metadata": {},
   "outputs": [],
   "source": [
    "def read_countdata(num):\n",
    "    df = pd.read_table(kallisto_counts[num],sep='\\t')\n",
    "    newcol1 = 'est_counts_' + sralib[num]\n",
    "    newcol2 = 'tpm_' + sralib[num]\n",
    "    df.rename(columns = {'est_counts':newcol1,'tpm':newcol2}, inplace=True)\n",
    "\n",
    "    return df\n"
   ]
  },
  {
   "cell_type": "markdown",
   "metadata": {},
   "source": [
    "カウントデータを読み込みます"
   ]
  },
  {
   "cell_type": "code",
   "execution_count": 6,
   "metadata": {},
   "outputs": [],
   "source": [
    "df0 = read_countdata(0)\n",
    "df1 = read_countdata(1)\n",
    "df2 = read_countdata(2)\n",
    "df3 = read_countdata(3)\n",
    "df4 = read_countdata(4)\n",
    "df5 = read_countdata(5)"
   ]
  },
  {
   "cell_type": "markdown",
   "metadata": {},
   "source": [
    "読み込めているか確認します（いずれも同じ行数になるはず）"
   ]
  },
  {
   "cell_type": "code",
   "execution_count": 7,
   "metadata": {},
   "outputs": [
    {
     "name": "stdout",
     "output_type": "stream",
     "text": [
      "117062 117062 117062 117062 117062 117062\n"
     ]
    }
   ],
   "source": [
    "print(len(df0),len(df1),len(df3),len(df3),len(df4),len(df5))"
   ]
  },
  {
   "cell_type": "markdown",
   "metadata": {},
   "source": [
    "df0の最初の5行を表示してみます"
   ]
  },
  {
   "cell_type": "code",
   "execution_count": 8,
   "metadata": {},
   "outputs": [
    {
     "data": {
      "text/html": [
       "<div>\n",
       "<style scoped>\n",
       "    .dataframe tbody tr th:only-of-type {\n",
       "        vertical-align: middle;\n",
       "    }\n",
       "\n",
       "    .dataframe tbody tr th {\n",
       "        vertical-align: top;\n",
       "    }\n",
       "\n",
       "    .dataframe thead th {\n",
       "        text-align: right;\n",
       "    }\n",
       "</style>\n",
       "<table border=\"1\" class=\"dataframe\">\n",
       "  <thead>\n",
       "    <tr style=\"text-align: right;\">\n",
       "      <th></th>\n",
       "      <th>target_id</th>\n",
       "      <th>length</th>\n",
       "      <th>eff_length</th>\n",
       "      <th>est_counts_SRR17223720</th>\n",
       "      <th>tpm_SRR17223720</th>\n",
       "    </tr>\n",
       "  </thead>\n",
       "  <tbody>\n",
       "    <tr>\n",
       "      <th>0</th>\n",
       "      <td>ENSMUST00000178537.2</td>\n",
       "      <td>12</td>\n",
       "      <td>6.74193</td>\n",
       "      <td>0.0</td>\n",
       "      <td>0.0</td>\n",
       "    </tr>\n",
       "    <tr>\n",
       "      <th>1</th>\n",
       "      <td>ENSMUST00000178862.2</td>\n",
       "      <td>14</td>\n",
       "      <td>7.65825</td>\n",
       "      <td>0.0</td>\n",
       "      <td>0.0</td>\n",
       "    </tr>\n",
       "    <tr>\n",
       "      <th>2</th>\n",
       "      <td>ENSMUST00000196221.2</td>\n",
       "      <td>9</td>\n",
       "      <td>5.34639</td>\n",
       "      <td>0.0</td>\n",
       "      <td>0.0</td>\n",
       "    </tr>\n",
       "    <tr>\n",
       "      <th>3</th>\n",
       "      <td>ENSMUST00000179664.2</td>\n",
       "      <td>11</td>\n",
       "      <td>6.27959</td>\n",
       "      <td>0.0</td>\n",
       "      <td>0.0</td>\n",
       "    </tr>\n",
       "    <tr>\n",
       "      <th>4</th>\n",
       "      <td>ENSMUST00000177564.2</td>\n",
       "      <td>16</td>\n",
       "      <td>8.56364</td>\n",
       "      <td>0.0</td>\n",
       "      <td>0.0</td>\n",
       "    </tr>\n",
       "  </tbody>\n",
       "</table>\n",
       "</div>"
      ],
      "text/plain": [
       "              target_id  length  eff_length  est_counts_SRR17223720  \\\n",
       "0  ENSMUST00000178537.2      12     6.74193                     0.0   \n",
       "1  ENSMUST00000178862.2      14     7.65825                     0.0   \n",
       "2  ENSMUST00000196221.2       9     5.34639                     0.0   \n",
       "3  ENSMUST00000179664.2      11     6.27959                     0.0   \n",
       "4  ENSMUST00000177564.2      16     8.56364                     0.0   \n",
       "\n",
       "   tpm_SRR17223720  \n",
       "0              0.0  \n",
       "1              0.0  \n",
       "2              0.0  \n",
       "3              0.0  \n",
       "4              0.0  "
      ]
     },
     "execution_count": 8,
     "metadata": {},
     "output_type": "execute_result"
    }
   ],
   "source": [
    "df0.head()"
   ]
  },
  {
   "cell_type": "markdown",
   "metadata": {},
   "source": [
    "`target_id`列（transcript_id）と`length`列, `eff_rength`列（TPMの計算に使う）は最初のサンプルの分だけでいいので、残りの表から削除します"
   ]
  },
  {
   "cell_type": "code",
   "execution_count": 9,
   "metadata": {},
   "outputs": [],
   "source": [
    "df1_count = df1.copy().drop(columns=['length','eff_length'])\n",
    "df2_count = df2.copy().drop(columns=['length','eff_length'])\n",
    "df3_count = df3.copy().drop(columns=['length','eff_length'])\n",
    "df4_count = df4.copy().drop(columns=['length','eff_length'])\n",
    "df5_count = df5.copy().drop(columns=['length','eff_length'])"
   ]
  },
  {
   "cell_type": "markdown",
   "metadata": {},
   "source": [
    "target_idをkeyとして、すべてつなげます"
   ]
  },
  {
   "cell_type": "code",
   "execution_count": 10,
   "metadata": {},
   "outputs": [],
   "source": [
    "new_df = pd.merge(df0, df1_count, on = 'target_id')\n",
    "new_df = pd.merge(new_df, df2_count, on = 'target_id')\n",
    "new_df = pd.merge(new_df, df3_count, on = 'target_id')\n",
    "new_df = pd.merge(new_df, df4_count, on = 'target_id')\n",
    "new_df = pd.merge(new_df, df5_count, on = 'target_id')"
   ]
  },
  {
   "cell_type": "markdown",
   "metadata": {},
   "source": [
    "確認します"
   ]
  },
  {
   "cell_type": "code",
   "execution_count": 11,
   "metadata": {},
   "outputs": [
    {
     "data": {
      "text/html": [
       "<div>\n",
       "<style scoped>\n",
       "    .dataframe tbody tr th:only-of-type {\n",
       "        vertical-align: middle;\n",
       "    }\n",
       "\n",
       "    .dataframe tbody tr th {\n",
       "        vertical-align: top;\n",
       "    }\n",
       "\n",
       "    .dataframe thead th {\n",
       "        text-align: right;\n",
       "    }\n",
       "</style>\n",
       "<table border=\"1\" class=\"dataframe\">\n",
       "  <thead>\n",
       "    <tr style=\"text-align: right;\">\n",
       "      <th></th>\n",
       "      <th>target_id</th>\n",
       "      <th>length</th>\n",
       "      <th>eff_length</th>\n",
       "      <th>est_counts_SRR17223720</th>\n",
       "      <th>tpm_SRR17223720</th>\n",
       "      <th>est_counts_SRR17223721</th>\n",
       "      <th>tpm_SRR17223721</th>\n",
       "      <th>est_counts_SRR17223722</th>\n",
       "      <th>tpm_SRR17223722</th>\n",
       "      <th>est_counts_SRR17223723</th>\n",
       "      <th>tpm_SRR17223723</th>\n",
       "      <th>est_counts_SRR17223724</th>\n",
       "      <th>tpm_SRR17223724</th>\n",
       "      <th>est_counts_SRR17223725</th>\n",
       "      <th>tpm_SRR17223725</th>\n",
       "    </tr>\n",
       "  </thead>\n",
       "  <tbody>\n",
       "    <tr>\n",
       "      <th>0</th>\n",
       "      <td>ENSMUST00000178537.2</td>\n",
       "      <td>12</td>\n",
       "      <td>6.74193</td>\n",
       "      <td>0.0</td>\n",
       "      <td>0.0</td>\n",
       "      <td>0.0</td>\n",
       "      <td>0.0</td>\n",
       "      <td>0.0</td>\n",
       "      <td>0.0</td>\n",
       "      <td>0.0</td>\n",
       "      <td>0.0</td>\n",
       "      <td>0.0</td>\n",
       "      <td>0.0</td>\n",
       "      <td>0.0</td>\n",
       "      <td>0.0</td>\n",
       "    </tr>\n",
       "    <tr>\n",
       "      <th>1</th>\n",
       "      <td>ENSMUST00000178862.2</td>\n",
       "      <td>14</td>\n",
       "      <td>7.65825</td>\n",
       "      <td>0.0</td>\n",
       "      <td>0.0</td>\n",
       "      <td>0.0</td>\n",
       "      <td>0.0</td>\n",
       "      <td>0.0</td>\n",
       "      <td>0.0</td>\n",
       "      <td>0.0</td>\n",
       "      <td>0.0</td>\n",
       "      <td>0.0</td>\n",
       "      <td>0.0</td>\n",
       "      <td>0.0</td>\n",
       "      <td>0.0</td>\n",
       "    </tr>\n",
       "    <tr>\n",
       "      <th>2</th>\n",
       "      <td>ENSMUST00000196221.2</td>\n",
       "      <td>9</td>\n",
       "      <td>5.34639</td>\n",
       "      <td>0.0</td>\n",
       "      <td>0.0</td>\n",
       "      <td>0.0</td>\n",
       "      <td>0.0</td>\n",
       "      <td>0.0</td>\n",
       "      <td>0.0</td>\n",
       "      <td>0.0</td>\n",
       "      <td>0.0</td>\n",
       "      <td>0.0</td>\n",
       "      <td>0.0</td>\n",
       "      <td>0.0</td>\n",
       "      <td>0.0</td>\n",
       "    </tr>\n",
       "    <tr>\n",
       "      <th>3</th>\n",
       "      <td>ENSMUST00000179664.2</td>\n",
       "      <td>11</td>\n",
       "      <td>6.27959</td>\n",
       "      <td>0.0</td>\n",
       "      <td>0.0</td>\n",
       "      <td>0.0</td>\n",
       "      <td>0.0</td>\n",
       "      <td>0.0</td>\n",
       "      <td>0.0</td>\n",
       "      <td>0.0</td>\n",
       "      <td>0.0</td>\n",
       "      <td>0.0</td>\n",
       "      <td>0.0</td>\n",
       "      <td>0.0</td>\n",
       "      <td>0.0</td>\n",
       "    </tr>\n",
       "    <tr>\n",
       "      <th>4</th>\n",
       "      <td>ENSMUST00000177564.2</td>\n",
       "      <td>16</td>\n",
       "      <td>8.56364</td>\n",
       "      <td>0.0</td>\n",
       "      <td>0.0</td>\n",
       "      <td>0.0</td>\n",
       "      <td>0.0</td>\n",
       "      <td>0.0</td>\n",
       "      <td>0.0</td>\n",
       "      <td>0.0</td>\n",
       "      <td>0.0</td>\n",
       "      <td>0.0</td>\n",
       "      <td>0.0</td>\n",
       "      <td>0.0</td>\n",
       "      <td>0.0</td>\n",
       "    </tr>\n",
       "  </tbody>\n",
       "</table>\n",
       "</div>"
      ],
      "text/plain": [
       "              target_id  length  eff_length  est_counts_SRR17223720  \\\n",
       "0  ENSMUST00000178537.2      12     6.74193                     0.0   \n",
       "1  ENSMUST00000178862.2      14     7.65825                     0.0   \n",
       "2  ENSMUST00000196221.2       9     5.34639                     0.0   \n",
       "3  ENSMUST00000179664.2      11     6.27959                     0.0   \n",
       "4  ENSMUST00000177564.2      16     8.56364                     0.0   \n",
       "\n",
       "   tpm_SRR17223720  est_counts_SRR17223721  tpm_SRR17223721  \\\n",
       "0              0.0                     0.0              0.0   \n",
       "1              0.0                     0.0              0.0   \n",
       "2              0.0                     0.0              0.0   \n",
       "3              0.0                     0.0              0.0   \n",
       "4              0.0                     0.0              0.0   \n",
       "\n",
       "   est_counts_SRR17223722  tpm_SRR17223722  est_counts_SRR17223723  \\\n",
       "0                     0.0              0.0                     0.0   \n",
       "1                     0.0              0.0                     0.0   \n",
       "2                     0.0              0.0                     0.0   \n",
       "3                     0.0              0.0                     0.0   \n",
       "4                     0.0              0.0                     0.0   \n",
       "\n",
       "   tpm_SRR17223723  est_counts_SRR17223724  tpm_SRR17223724  \\\n",
       "0              0.0                     0.0              0.0   \n",
       "1              0.0                     0.0              0.0   \n",
       "2              0.0                     0.0              0.0   \n",
       "3              0.0                     0.0              0.0   \n",
       "4              0.0                     0.0              0.0   \n",
       "\n",
       "   est_counts_SRR17223725  tpm_SRR17223725  \n",
       "0                     0.0              0.0  \n",
       "1                     0.0              0.0  \n",
       "2                     0.0              0.0  \n",
       "3                     0.0              0.0  \n",
       "4                     0.0              0.0  "
      ]
     },
     "execution_count": 11,
     "metadata": {},
     "output_type": "execute_result"
    }
   ],
   "source": [
    "new_df.head()"
   ]
  },
  {
   "cell_type": "markdown",
   "metadata": {},
   "source": [
    "`est_counts`と`eff_length` だけのtable、`tpm` だけのtableを作ります<br>\n",
    "列名もSRAアクセッションのみにします"
   ]
  },
  {
   "cell_type": "code",
   "execution_count": 12,
   "metadata": {},
   "outputs": [],
   "source": [
    "# est_countsとeff_length\n",
    "drop_column1 = ['tpm_'+ i for i in sralib]\n",
    "drop_column1.append('length')\n",
    "rename_column1 = {'est_counts_'+ i:i for i in sralib}\n",
    "new_df_count = new_df.copy().drop(columns = drop_column1).rename(columns=rename_column1)"
   ]
  },
  {
   "cell_type": "markdown",
   "metadata": {},
   "source": [
    "確認します"
   ]
  },
  {
   "cell_type": "code",
   "execution_count": 13,
   "metadata": {},
   "outputs": [
    {
     "data": {
      "text/html": [
       "<div>\n",
       "<style scoped>\n",
       "    .dataframe tbody tr th:only-of-type {\n",
       "        vertical-align: middle;\n",
       "    }\n",
       "\n",
       "    .dataframe tbody tr th {\n",
       "        vertical-align: top;\n",
       "    }\n",
       "\n",
       "    .dataframe thead th {\n",
       "        text-align: right;\n",
       "    }\n",
       "</style>\n",
       "<table border=\"1\" class=\"dataframe\">\n",
       "  <thead>\n",
       "    <tr style=\"text-align: right;\">\n",
       "      <th></th>\n",
       "      <th>target_id</th>\n",
       "      <th>eff_length</th>\n",
       "      <th>SRR17223720</th>\n",
       "      <th>SRR17223721</th>\n",
       "      <th>SRR17223722</th>\n",
       "      <th>SRR17223723</th>\n",
       "      <th>SRR17223724</th>\n",
       "      <th>SRR17223725</th>\n",
       "    </tr>\n",
       "  </thead>\n",
       "  <tbody>\n",
       "    <tr>\n",
       "      <th>0</th>\n",
       "      <td>ENSMUST00000178537.2</td>\n",
       "      <td>6.74193</td>\n",
       "      <td>0.0</td>\n",
       "      <td>0.0</td>\n",
       "      <td>0.0</td>\n",
       "      <td>0.0</td>\n",
       "      <td>0.0</td>\n",
       "      <td>0.0</td>\n",
       "    </tr>\n",
       "    <tr>\n",
       "      <th>1</th>\n",
       "      <td>ENSMUST00000178862.2</td>\n",
       "      <td>7.65825</td>\n",
       "      <td>0.0</td>\n",
       "      <td>0.0</td>\n",
       "      <td>0.0</td>\n",
       "      <td>0.0</td>\n",
       "      <td>0.0</td>\n",
       "      <td>0.0</td>\n",
       "    </tr>\n",
       "    <tr>\n",
       "      <th>2</th>\n",
       "      <td>ENSMUST00000196221.2</td>\n",
       "      <td>5.34639</td>\n",
       "      <td>0.0</td>\n",
       "      <td>0.0</td>\n",
       "      <td>0.0</td>\n",
       "      <td>0.0</td>\n",
       "      <td>0.0</td>\n",
       "      <td>0.0</td>\n",
       "    </tr>\n",
       "    <tr>\n",
       "      <th>3</th>\n",
       "      <td>ENSMUST00000179664.2</td>\n",
       "      <td>6.27959</td>\n",
       "      <td>0.0</td>\n",
       "      <td>0.0</td>\n",
       "      <td>0.0</td>\n",
       "      <td>0.0</td>\n",
       "      <td>0.0</td>\n",
       "      <td>0.0</td>\n",
       "    </tr>\n",
       "    <tr>\n",
       "      <th>4</th>\n",
       "      <td>ENSMUST00000177564.2</td>\n",
       "      <td>8.56364</td>\n",
       "      <td>0.0</td>\n",
       "      <td>0.0</td>\n",
       "      <td>0.0</td>\n",
       "      <td>0.0</td>\n",
       "      <td>0.0</td>\n",
       "      <td>0.0</td>\n",
       "    </tr>\n",
       "  </tbody>\n",
       "</table>\n",
       "</div>"
      ],
      "text/plain": [
       "              target_id  eff_length  SRR17223720  SRR17223721  SRR17223722  \\\n",
       "0  ENSMUST00000178537.2     6.74193          0.0          0.0          0.0   \n",
       "1  ENSMUST00000178862.2     7.65825          0.0          0.0          0.0   \n",
       "2  ENSMUST00000196221.2     5.34639          0.0          0.0          0.0   \n",
       "3  ENSMUST00000179664.2     6.27959          0.0          0.0          0.0   \n",
       "4  ENSMUST00000177564.2     8.56364          0.0          0.0          0.0   \n",
       "\n",
       "   SRR17223723  SRR17223724  SRR17223725  \n",
       "0          0.0          0.0          0.0  \n",
       "1          0.0          0.0          0.0  \n",
       "2          0.0          0.0          0.0  \n",
       "3          0.0          0.0          0.0  \n",
       "4          0.0          0.0          0.0  "
      ]
     },
     "execution_count": 13,
     "metadata": {},
     "output_type": "execute_result"
    }
   ],
   "source": [
    "new_df_count.head()"
   ]
  },
  {
   "cell_type": "code",
   "execution_count": 14,
   "metadata": {},
   "outputs": [],
   "source": [
    "# tpm\n",
    "drop_column2 = ['est_counts_'+ i for i in sralib]\n",
    "drop_column2.append('length')\n",
    "drop_column2.append('eff_length')\n",
    "rename_column2 = {'tpm_'+ i:i for i in sralib}\n",
    "new_df_tpm = new_df.copy().drop(columns = drop_column2).rename(columns=rename_column2)"
   ]
  },
  {
   "cell_type": "markdown",
   "metadata": {},
   "source": [
    "確認します"
   ]
  },
  {
   "cell_type": "code",
   "execution_count": 15,
   "metadata": {},
   "outputs": [
    {
     "data": {
      "text/html": [
       "<div>\n",
       "<style scoped>\n",
       "    .dataframe tbody tr th:only-of-type {\n",
       "        vertical-align: middle;\n",
       "    }\n",
       "\n",
       "    .dataframe tbody tr th {\n",
       "        vertical-align: top;\n",
       "    }\n",
       "\n",
       "    .dataframe thead th {\n",
       "        text-align: right;\n",
       "    }\n",
       "</style>\n",
       "<table border=\"1\" class=\"dataframe\">\n",
       "  <thead>\n",
       "    <tr style=\"text-align: right;\">\n",
       "      <th></th>\n",
       "      <th>target_id</th>\n",
       "      <th>SRR17223720</th>\n",
       "      <th>SRR17223721</th>\n",
       "      <th>SRR17223722</th>\n",
       "      <th>SRR17223723</th>\n",
       "      <th>SRR17223724</th>\n",
       "      <th>SRR17223725</th>\n",
       "    </tr>\n",
       "  </thead>\n",
       "  <tbody>\n",
       "    <tr>\n",
       "      <th>0</th>\n",
       "      <td>ENSMUST00000178537.2</td>\n",
       "      <td>0.0</td>\n",
       "      <td>0.0</td>\n",
       "      <td>0.0</td>\n",
       "      <td>0.0</td>\n",
       "      <td>0.0</td>\n",
       "      <td>0.0</td>\n",
       "    </tr>\n",
       "    <tr>\n",
       "      <th>1</th>\n",
       "      <td>ENSMUST00000178862.2</td>\n",
       "      <td>0.0</td>\n",
       "      <td>0.0</td>\n",
       "      <td>0.0</td>\n",
       "      <td>0.0</td>\n",
       "      <td>0.0</td>\n",
       "      <td>0.0</td>\n",
       "    </tr>\n",
       "    <tr>\n",
       "      <th>2</th>\n",
       "      <td>ENSMUST00000196221.2</td>\n",
       "      <td>0.0</td>\n",
       "      <td>0.0</td>\n",
       "      <td>0.0</td>\n",
       "      <td>0.0</td>\n",
       "      <td>0.0</td>\n",
       "      <td>0.0</td>\n",
       "    </tr>\n",
       "    <tr>\n",
       "      <th>3</th>\n",
       "      <td>ENSMUST00000179664.2</td>\n",
       "      <td>0.0</td>\n",
       "      <td>0.0</td>\n",
       "      <td>0.0</td>\n",
       "      <td>0.0</td>\n",
       "      <td>0.0</td>\n",
       "      <td>0.0</td>\n",
       "    </tr>\n",
       "    <tr>\n",
       "      <th>4</th>\n",
       "      <td>ENSMUST00000177564.2</td>\n",
       "      <td>0.0</td>\n",
       "      <td>0.0</td>\n",
       "      <td>0.0</td>\n",
       "      <td>0.0</td>\n",
       "      <td>0.0</td>\n",
       "      <td>0.0</td>\n",
       "    </tr>\n",
       "  </tbody>\n",
       "</table>\n",
       "</div>"
      ],
      "text/plain": [
       "              target_id  SRR17223720  SRR17223721  SRR17223722  SRR17223723  \\\n",
       "0  ENSMUST00000178537.2          0.0          0.0          0.0          0.0   \n",
       "1  ENSMUST00000178862.2          0.0          0.0          0.0          0.0   \n",
       "2  ENSMUST00000196221.2          0.0          0.0          0.0          0.0   \n",
       "3  ENSMUST00000179664.2          0.0          0.0          0.0          0.0   \n",
       "4  ENSMUST00000177564.2          0.0          0.0          0.0          0.0   \n",
       "\n",
       "   SRR17223724  SRR17223725  \n",
       "0          0.0          0.0  \n",
       "1          0.0          0.0  \n",
       "2          0.0          0.0  \n",
       "3          0.0          0.0  \n",
       "4          0.0          0.0  "
      ]
     },
     "execution_count": 15,
     "metadata": {},
     "output_type": "execute_result"
    }
   ],
   "source": [
    "new_df_tpm.head()"
   ]
  },
  {
   "cell_type": "markdown",
   "metadata": {},
   "source": [
    "タブ区切りファイルとして保存します"
   ]
  },
  {
   "cell_type": "code",
   "execution_count": null,
   "metadata": {},
   "outputs": [],
   "source": [
    "new_df_count.to_csv('data/counts_kallisto.tsv', sep=\"\\t\",index=False)\n",
    "new_df_tpm.to_csv('data/tpm_kallisto.tsv', sep=\"\\t\",index=False)"
   ]
  },
  {
   "cell_type": "markdown",
   "metadata": {},
   "source": [
    "参考\n",
    "- 実験医学別冊　独習Pythonバイオ情報解析　第6,7章　(2021年、先進ゲノム解析研究推進プラットフォーム編、ISBN978-4-7581-2249-8)\n",
    "- pandas 公式サイト　https://pandas.pydata.org\n",
    "- note.nknk.me pandas関連記事まとめ　https://note.nkmk.me/python-pandas-post-summary/\n",
    "- kallisto を用いた A. thaliana paired-end リードの転写産物の定量 https://bi.biopapyrus.jp/rnaseq/mapping/kallisto/kallisto-paired.html\n",
    "- Quasi-Mappingによって高速にRNA seqの定量を行う Kallisto https://kazumaxneo.hatenablog.com/entry/2018/07/14/180503\n",
    "- kallisto Manual http://pachterlab.github.io/kallisto/manual.html\n"
   ]
  }
 ],
 "metadata": {
  "kernelspec": {
   "display_name": "Python 3 (ipykernel)",
   "language": "python",
   "name": "python3"
  },
  "language_info": {
   "codemirror_mode": {
    "name": "ipython",
    "version": 3
   },
   "file_extension": ".py",
   "mimetype": "text/x-python",
   "name": "python",
   "nbconvert_exporter": "python",
   "pygments_lexer": "ipython3",
   "version": "3.8.5"
  },
  "vscode": {
   "interpreter": {
    "hash": "470257d3213e06cc21fd949635d3f77e8207554903083b38e960c3088cc78b2a"
   }
  }
 },
 "nbformat": 4,
 "nbformat_minor": 2
}
