{
 "cells": [
  {
   "cell_type": "markdown",
   "id": "6594fd23-6eee-45d0-8179-0e1a7357cbdd",
   "metadata": {},
   "source": [
    "# NumPy"
   ]
  },
  {
   "cell_type": "code",
   "execution_count": null,
   "id": "cff85669-b8ad-4151-9320-1a72aebe3bf5",
   "metadata": {},
   "outputs": [],
   "source": [
    "import numpy as np"
   ]
  },
  {
   "cell_type": "markdown",
   "id": "d1ad512b-f957-40f2-8e71-9d81458aed25",
   "metadata": {},
   "source": [
    "## データ型"
   ]
  },
  {
   "cell_type": "markdown",
   "id": "a9c37114-5db3-463c-8be7-5708699c1521",
   "metadata": {},
   "source": [
    "Pythonの通常の `list` の場合。"
   ]
  },
  {
   "cell_type": "code",
   "execution_count": null,
   "id": "5a41f6dc-f620-4ea5-a9a2-e83afb765e00",
   "metadata": {},
   "outputs": [],
   "source": [
    "list_a = [1, 2, 3, 4, 5]\n",
    "print(list_a)\n",
    "print(type(list_a))"
   ]
  },
  {
   "cell_type": "markdown",
   "id": "39c7f7ce-4627-4910-a9e3-35cdb6a2d769",
   "metadata": {},
   "source": [
    "NumPyの配列の場合。"
   ]
  },
  {
   "cell_type": "code",
   "execution_count": null,
   "id": "c967ec6e-4e39-4c55-964f-fe45717d2e7c",
   "metadata": {},
   "outputs": [],
   "source": [
    "arr_a = np.array(list_a)\n",
    "print(arr_a)\n",
    "print(type(arr_a))"
   ]
  },
  {
   "cell_type": "markdown",
   "id": "b5338ddd-b31b-4401-9276-60efb77143d7",
   "metadata": {},
   "source": [
    "`numpy.ndarray` は要素のデータ型を指定できる。"
   ]
  },
  {
   "cell_type": "code",
   "execution_count": null,
   "id": "eb0bd23c-09fe-4638-bd15-d55a76c7d504",
   "metadata": {},
   "outputs": [],
   "source": [
    "arr_a = np.array(list_a, dtype=np.int8)\n",
    "print(arr_a)\n",
    "print(arr_a.dtype)\n",
    "print(arr_a[0])"
   ]
  },
  {
   "cell_type": "code",
   "execution_count": null,
   "id": "dabfa884-38da-4478-9253-24e208373b3a",
   "metadata": {},
   "outputs": [],
   "source": [
    "arr_a = np.array(list_a, dtype=np.float64)\n",
    "print(arr_a)\n",
    "print(arr_a.dtype)\n",
    "print(arr_a[0])"
   ]
  },
  {
   "cell_type": "markdown",
   "id": "f35b8b2c-1bc9-4421-85ee-0753a7607fae",
   "metadata": {},
   "source": [
    "整数配列の表現に必要なバイト数の比較。"
   ]
  },
  {
   "cell_type": "code",
   "execution_count": null,
   "id": "20143a9c-b38e-4081-b653-c2bf2e59c9d9",
   "metadata": {},
   "outputs": [],
   "source": [
    "list_a = [1, 2, 3, 4, 5]\n",
    "arr_a = np.array(list_a, dtype=np.int8)"
   ]
  },
  {
   "cell_type": "markdown",
   "id": "2f67042f-e3bf-4a06-91b2-53180d77295f",
   "metadata": {},
   "source": [
    "Pythonの整数は、どれだけ小さな数字であろうと20バイト以上（システム依存）のメモリ確保が必要。その代わり、どれほど大きな整数を格納しようと自動的に拡張してオーバーフローすることはない（マシンのメモリが許す限り）"
   ]
  },
  {
   "cell_type": "code",
   "execution_count": null,
   "id": "2e0cdadf-e923-4154-9ceb-71fbc580c9b6",
   "metadata": {},
   "outputs": [],
   "source": [
    "import sys\n",
    "sys.getsizeof(list_a[0])"
   ]
  },
  {
   "cell_type": "markdown",
   "id": "110a538d-d911-4f36-933d-f903e3b41da4",
   "metadata": {},
   "source": [
    "numpyの配列要素のバイト数は宣言したデータ型できっちり決まる。"
   ]
  },
  {
   "cell_type": "code",
   "execution_count": null,
   "id": "054f4afe-f286-43a4-9498-a02cdec27445",
   "metadata": {},
   "outputs": [],
   "source": [
    "arr_a.itemsize"
   ]
  },
  {
   "cell_type": "markdown",
   "id": "62882235-4a45-439d-9794-753dad3bbd2d",
   "metadata": {},
   "source": [
    "なので普通の list はオーバーフローは意識しなくていいが、"
   ]
  },
  {
   "cell_type": "code",
   "execution_count": null,
   "id": "d61d1719-08cb-4c96-a9c4-d9e2945d402b",
   "metadata": {},
   "outputs": [],
   "source": [
    "list_a[0] = 256\n",
    "list_a"
   ]
  },
  {
   "cell_type": "markdown",
   "id": "36f7b3fc-35c8-4c62-9e80-f0cfa8506aaf",
   "metadata": {},
   "source": [
    "numpyの配列はC言語を書くときのようにデータ型を意識することが必要。"
   ]
  },
  {
   "cell_type": "code",
   "execution_count": null,
   "id": "1316c036-94b9-4101-9e47-3a79d2a2421b",
   "metadata": {},
   "outputs": [],
   "source": [
    "arr_a[0] = 256\n",
    "arr_a"
   ]
  },
  {
   "cell_type": "markdown",
   "id": "a1433db9-033c-4914-9219-d2b9ebb27d74",
   "metadata": {},
   "source": [
    "必要な計算精度に合わせて指定する。"
   ]
  },
  {
   "cell_type": "code",
   "execution_count": null,
   "id": "5e8c94ba-2f18-47fa-9319-1f762f3db319",
   "metadata": {},
   "outputs": [],
   "source": [
    "b = np.array([150], dtype=np.float32)\n",
    "print(np.exp(-b))\n",
    "\n",
    "b = np.array([150], dtype=np.float64)\n",
    "print(np.exp(-b))"
   ]
  },
  {
   "cell_type": "markdown",
   "id": "416d6627-fd31-4c19-948c-6590eafb2ab5",
   "metadata": {},
   "source": [
    "何も考えず生成しても配列要素から自動的に決めてくれる。"
   ]
  },
  {
   "cell_type": "code",
   "execution_count": null,
   "id": "c5a7bf5d-ac4f-4349-b43c-1062639c5917",
   "metadata": {},
   "outputs": [],
   "source": [
    "a = np.array([1, 2, 3, 4, 5])\n",
    "print(a.dtype)\n",
    "\n",
    "a = np.array([1.0, 2.0, 3.0, 4.0, 5.0])\n",
    "print(a.dtype)\n",
    "\n",
    "a = np.array([True, True, False, True, False])\n",
    "print(a.dtype)"
   ]
  },
  {
   "cell_type": "markdown",
   "id": "47796e0b-b1a2-46ec-9c84-42826ac7650b",
   "metadata": {},
   "source": [
    "データ型の変換（型キャスト）。真偽値の整数（0 or 1）への変換はたまに出てくる。"
   ]
  },
  {
   "cell_type": "code",
   "execution_count": null,
   "id": "7dcbe77c-1e13-4a32-b9b8-d81854bf1abd",
   "metadata": {},
   "outputs": [],
   "source": [
    "print(a)\n",
    "print(a.astype(int))"
   ]
  },
  {
   "cell_type": "markdown",
   "id": "67e82985-6c4e-416f-83f8-5022a01300b2",
   "metadata": {},
   "source": [
    "なんらかの条件を満たす要素の数をカウントする場合など。"
   ]
  },
  {
   "cell_type": "code",
   "execution_count": null,
   "id": "30b25a7f-3361-4671-a8e7-d6c9d55b0a63",
   "metadata": {},
   "outputs": [],
   "source": [
    "a = np.array(range(10))\n",
    "print(a)\n",
    "\n",
    "print(a % 3 == 0)\n",
    "\n",
    "print((a % 3 == 0).astype(int))\n",
    "\n",
    "print((a % 3 == 0).astype(int).sum())\n",
    "\n",
    "# np.count_nonzero(a % 3 == 0) でも同じ"
   ]
  },
  {
   "cell_type": "markdown",
   "id": "df333726-3d3a-4386-aa70-7e95543eeaee",
   "metadata": {},
   "source": [
    "## 計算速度"
   ]
  },
  {
   "cell_type": "code",
   "execution_count": null,
   "id": "b82c63ca-67a8-4b74-8c73-62f137a89b69",
   "metadata": {},
   "outputs": [],
   "source": [
    "%%time\n",
    "sum([i**2 for i in range(1000000)])"
   ]
  },
  {
   "cell_type": "code",
   "execution_count": null,
   "id": "2314336a-d678-4f86-a9b4-7fa9a1aeb8c4",
   "metadata": {},
   "outputs": [],
   "source": [
    "%%time\n",
    "(np.arange(1000000) ** 2).sum()"
   ]
  },
  {
   "cell_type": "markdown",
   "id": "2ca3d874-dc56-47a4-b261-2c7fd69435d7",
   "metadata": {},
   "source": [
    "## NumPy配列 (numpy.ndarray) の生成"
   ]
  },
  {
   "cell_type": "markdown",
   "id": "99870d89-3661-48a7-a45c-e8278c1411aa",
   "metadata": {},
   "source": [
    "基本。Pythonの list を `numpy.array` 関数につっこむ。"
   ]
  },
  {
   "cell_type": "code",
   "execution_count": null,
   "id": "55668380-3738-4ec5-b71a-6a3c77e3a69a",
   "metadata": {},
   "outputs": [],
   "source": [
    "a = np.array([1, 2, 3, 4, 5])\n",
    "print(a)"
   ]
  },
  {
   "cell_type": "markdown",
   "id": "620a0d7e-d484-4e51-ba37-400152f6b840",
   "metadata": {},
   "source": [
    "二次元のリストを入れれば、二次元のマトリックスを作れる。"
   ]
  },
  {
   "cell_type": "code",
   "execution_count": null,
   "id": "647d852f-712b-41bd-910e-97d399867cdf",
   "metadata": {},
   "outputs": [],
   "source": [
    "a = np.array([[1, 2, 3],\n",
    "              [4, 5, 6]])\n",
    "print(a)"
   ]
  },
  {
   "cell_type": "markdown",
   "id": "5e275d57-6d5e-421f-8dc8-70961208a5cc",
   "metadata": {},
   "source": [
    "```numpy.ndarray```は他にも様々な作り方がある。たとえば、すべての要素が1のみからなる配列を生成する```numpy.ones```関数、すべての要素がゼロのみからなる配列を生成する```numpy.zeros```関数など。"
   ]
  },
  {
   "cell_type": "code",
   "execution_count": null,
   "id": "776c4f01-48d3-42fc-bede-ad75e471f53d",
   "metadata": {},
   "outputs": [],
   "source": [
    "# ones関数、zeros関数どちらも、1や0で埋める長さを指定する\n",
    "print(np.ones(5))\n",
    "print(np.zeros(5))"
   ]
  },
  {
   "cell_type": "markdown",
   "id": "00fa7791-7062-4603-95c1-8ede9549a8d5",
   "metadata": {},
   "source": [
    "また、ある数値の範囲の中で等間隔に離れた数値の列を、指定した数のぶん生成する```numpy.linspace```関数を使った作り方もある。\n",
    "```numpy.linspace```関数は、開始位置、終了位置、要素数を指定する。開始位置と終了位置のあいだで指定した要素数のぶん等間隔に離れた数値の列を生成する。下の例ではゼロから1の間で21個の点を生成している。"
   ]
  },
  {
   "cell_type": "code",
   "execution_count": null,
   "id": "6d3d17e3-b435-489d-99ec-01bb15222d37",
   "metadata": {},
   "outputs": [],
   "source": [
    "print(np.linspace(0.0, 1.0, 21))"
   ]
  },
  {
   "cell_type": "markdown",
   "id": "376f4b2f-c10e-4a48-af67-cdf3de526a3c",
   "metadata": {},
   "source": [
    "この関数はとくにプロットを描く際に重宝する。たとえば以下のように、numpyのsin関数に入れると、ゼロ度から90度の範囲で均等に正弦関数の値を得ることができる。"
   ]
  },
  {
   "cell_type": "code",
   "execution_count": null,
   "id": "765d1b9a-e14d-4f44-adde-fffcf88e181f",
   "metadata": {},
   "outputs": [],
   "source": [
    "print(np.sin(np.linspace(0.0, np.pi/2, 21)))"
   ]
  },
  {
   "cell_type": "markdown",
   "id": "f5210597-db29-4b26-a8c5-08fc7ee528b8",
   "metadata": {},
   "source": [
    "## 基本的な配列操作と計算"
   ]
  },
  {
   "cell_type": "markdown",
   "id": "1b85d2c9-3085-44c2-8bc2-8faa1faf7d87",
   "metadata": {},
   "source": [
    "配列要素へのアクセスは通常のリストの場合と同様である。```start:stop:step```を使ったスライシング、```step```に```-1```を指定した逆順配列の生成もサポートしている。"
   ]
  },
  {
   "cell_type": "code",
   "execution_count": null,
   "id": "2bd2d2b5-a308-4ba5-a713-0fea05a8a90c",
   "metadata": {},
   "outputs": [],
   "source": [
    "a = np.array([1, 2, 3, 4, 5])\n",
    "\n",
    "# 最初の要素。0番から。\n",
    "print(a[0])\n",
    "# 最後の要素。\n",
    "print(a[-1])\n",
    "# スライシング。1番から最後の一個手前まで。\n",
    "print(a[1:-1])\n",
    "# 一個おき。\n",
    "print(a[::2])\n",
    "# 逆順\n",
    "print(a[::-1])"
   ]
  },
  {
   "cell_type": "markdown",
   "id": "86ede96a-8ae6-4dcd-90b4-354831872d7d",
   "metadata": {},
   "source": [
    "```numpy.ndarray```の次元（何次元配列か）は```ndim```アトリビュート（オブジェクトの属性情報）に、形状は```shape```アトリビュートに、要素数は```size```アトリビュートにアクセスすることで調べられる。"
   ]
  },
  {
   "cell_type": "code",
   "execution_count": null,
   "id": "ea630462-bb78-4b28-b5ca-6be8fb17041d",
   "metadata": {},
   "outputs": [],
   "source": [
    "# 配列の次元\n",
    "print(a.ndim)\n",
    "# 配列の形状\n",
    "print(a.shape)\n",
    "# 配列の要素数\n",
    "print(a.size)"
   ]
  },
  {
   "cell_type": "markdown",
   "id": "1033b343-08f4-444d-9898-eba3c2f63f1b",
   "metadata": {},
   "source": [
    "とくに `shape` はお世話になる場面も多い。マトリックスが何行何列なのか調べるとき。"
   ]
  },
  {
   "cell_type": "code",
   "execution_count": null,
   "id": "e734ad9e-5084-4543-af03-b8cca0215cc5",
   "metadata": {},
   "outputs": [],
   "source": [
    "a = np.array([[1, 2, 3],\n",
    "              [4, 5, 6]])\n",
    "print(a)\n",
    "print(a.shape)"
   ]
  },
  {
   "cell_type": "markdown",
   "id": "8b6cd294-e8e4-4157-89f2-36fd6b4036a8",
   "metadata": {},
   "source": [
    "また、いくつかの基本的な演算（最大、最小、平均値、全体の和など）は関数で簡単に実行できる。"
   ]
  },
  {
   "cell_type": "code",
   "execution_count": null,
   "id": "fd43b6d6-78f6-4dbb-8034-bbcb52dd3e94",
   "metadata": {},
   "outputs": [],
   "source": [
    "a = np.array([1, 2, 3, 4, 5])\n",
    "\n",
    "# 最大値\n",
    "print(a.max())\n",
    "# 最小値\n",
    "print(a.min())\n",
    "# 平均値\n",
    "print(a.mean())\n",
    "# 配列の要素の和\n",
    "print(a.sum())"
   ]
  },
  {
   "cell_type": "markdown",
   "id": "12838537-2ad8-48c3-9d6e-45ab482cb453",
   "metadata": {},
   "source": [
    "## 行ベクトルと列ベクトル"
   ]
  },
  {
   "cell_type": "markdown",
   "id": "7378e061-0661-4c39-9797-150f3c0e9c12",
   "metadata": {},
   "source": [
    "```numpy.array```関数は一次元のリストを与えると横長のフラットなベクトル（行ベクトル）をつくる。\n",
    "\n",
    "しかし計算によっては、縦に長い列ベクトルが欲しい場合がある（そのような例は後述する）。\n",
    "\n",
    "行ベクトルを列ベクトルに変換する簡単な方法は、```reshape```関数を使うことである。\n",
    "\n",
    "いま、aは1行5列の行ベクトルだった。これを5行1列の列ベクトルに変換するには以下のように```reshape```関数のひとつめ（0番目）に行の数、ふたつめ（1番目）に列の数を指定して実行する。\n",
    "\n",
    "この場合はタテに5個、ヨコに1個の形状に並び替える、ということを意味している。"
   ]
  },
  {
   "cell_type": "code",
   "execution_count": null,
   "id": "fa96dc14-8589-4a49-856a-92a605547108",
   "metadata": {},
   "outputs": [],
   "source": [
    "a.reshape(5, 1)"
   ]
  },
  {
   "cell_type": "markdown",
   "id": "2536e4a8-786e-416b-9717-1840f9944603",
   "metadata": {},
   "source": [
    "ただ、いちいち配列のサイズを数えて行の数を指定するのは面倒でもある。列の数を1にするなら、行の数は配列の要素数になるのはあたりまえなので省略したい。そういうとき-1を指定すると、もう一方の軸のサイズから形状を勝手に類推してくれる。この場合、列は1なので、行の数を-1で指定すれば同じ結果となる。"
   ]
  },
  {
   "cell_type": "code",
   "execution_count": null,
   "id": "e100f054-3628-44e3-8a72-631beb8d4e9a",
   "metadata": {},
   "outputs": [],
   "source": [
    "a.reshape(-1, 1)"
   ]
  },
  {
   "cell_type": "markdown",
   "id": "1d4005ab-4947-4ec7-8847-5a6a830dbb46",
   "metadata": {},
   "source": [
    "また、```reshape```による形状変換ではなく、```numpy.newaxis```で次元を「追加」する方法で変換することもできる（```numpy.newaxis```の実体は```None```だが、わかりやすさのためにこの名前で使われることが多い）。3次元以上の配列を扱う際はしばしばこちらの書き方のほうが便利なときがある。"
   ]
  },
  {
   "cell_type": "code",
   "execution_count": null,
   "id": "80712d86-0873-4501-a606-272ef5a85fc2",
   "metadata": {},
   "outputs": [],
   "source": [
    "a[:, np.newaxis]"
   ]
  },
  {
   "cell_type": "markdown",
   "id": "bc4178a0-529b-4462-904d-0666e41e89ab",
   "metadata": {},
   "source": [
    "## 二次元配列の操作"
   ]
  },
  {
   "cell_type": "code",
   "execution_count": null,
   "id": "96dd13c1-dc3e-4521-9e28-a4d88ccefbf8",
   "metadata": {},
   "outputs": [],
   "source": [
    "b = np.array([[1, 2, 3,],\n",
    "              [4, 5, 6,]])\n",
    "\n",
    "print(b.ndim)\n",
    "print(b.shape)\n",
    "print(b.size)"
   ]
  },
  {
   "cell_type": "markdown",
   "id": "180a3b4b-2151-49f1-a9ab-13190031a4a1",
   "metadata": {},
   "source": [
    "配列要素へのアクセスはほとんど一次元配列の場合と同じだが、ふたつの次元のインデックスをカンマで区切って指定する点だけ異なる。この場合もやはり、ひとつめ（0番目）が行（タテの何個目か）を表現し、ふたつめ（1番目）が列（ヨコの何個目か）を表現する。\n",
    "\n",
    "たとえばゼロ行ゼロ列の要素を取得する場合は以下のようにする。"
   ]
  },
  {
   "cell_type": "code",
   "execution_count": null,
   "id": "6de4b434-ee2e-475b-995b-71949e87fab0",
   "metadata": {},
   "outputs": [],
   "source": [
    "b[0, 0]"
   ]
  },
  {
   "cell_type": "markdown",
   "id": "6d9df8ff-aa0a-47bd-b3cb-94dc8d10e019",
   "metadata": {},
   "source": [
    "スライシングも同じようにできるが、どちらかの軸についてはスライスしないで全部とってくる、といった場合はstartやstopを指定せず```:```だけを指定する。たとえばゼロ行目の行ベクトル（ヨコ方向）を抜き出す場合は以下のようにする。"
   ]
  },
  {
   "cell_type": "code",
   "execution_count": null,
   "id": "75a136c7-9eb4-42fc-be7d-cf33d05515d3",
   "metadata": {},
   "outputs": [],
   "source": [
    "b[0, :]"
   ]
  },
  {
   "cell_type": "markdown",
   "id": "effbc03f-b1b6-4ad9-a1e6-9026933a7468",
   "metadata": {},
   "source": [
    "1列目の列ベクトル（タテ方向）を抜き出す場合は以下のようにする。ただしNumPyの場合、列ベクトルをタテに抜き出したはずなのに、勝手にフラットな行ベクトルにされてしまうので注意。基本的に列ベクトルを列ベクトルとして扱うためには毎度行ベクトルから列ベクトルへ変換しなきゃいけない。"
   ]
  },
  {
   "cell_type": "code",
   "execution_count": null,
   "id": "5d0e49da-62d0-47c0-986e-688b25340695",
   "metadata": {},
   "outputs": [],
   "source": [
    "b[:, 1]"
   ]
  },
  {
   "cell_type": "markdown",
   "id": "407bf67a-2af5-41aa-be5d-232d9ce9c11c",
   "metadata": {},
   "source": [
    "また、二次元配列の転置は、```T```アトリビュートや```transpose```関数で実行できる。"
   ]
  },
  {
   "cell_type": "code",
   "execution_count": null,
   "id": "d39e35aa-940f-49e8-b89c-067f31b90344",
   "metadata": {},
   "outputs": [],
   "source": [
    "print(b.T)\n",
    "print(b.T.shape)"
   ]
  },
  {
   "cell_type": "markdown",
   "id": "3426e284-a304-4c45-be95-9d12488f7a09",
   "metadata": {},
   "source": [
    "基本的な演算。"
   ]
  },
  {
   "cell_type": "code",
   "execution_count": null,
   "id": "18da54ba-8a1e-43f6-be95-9ce9e82b7a9b",
   "metadata": {},
   "outputs": [],
   "source": [
    "print(b)\n",
    "print('Max:', b.max())\n",
    "print('Min:', b.min())\n",
    "print('Mean:', b.mean())\n",
    "print('Sum:', b.sum())"
   ]
  },
  {
   "cell_type": "markdown",
   "id": "1daf40f0-dd4f-421e-9956-5f809eff8ff4",
   "metadata": {},
   "source": [
    "行ごと、列ごとの演算。\n",
    "\n",
    "NumPyにおいて、とくにテーブルデータを多用する計算では、軸（```axis```）の0番が「行の方向」、1番が「列の方向」というイメージはたびたび出てくる。この対応関係は覚えてしまった方がいいかもしれない。"
   ]
  },
  {
   "cell_type": "code",
   "execution_count": null,
   "id": "8aae47fd-f1d7-4b8c-96bd-54fb93ba5a70",
   "metadata": {},
   "outputs": [],
   "source": [
    "print(b)\n",
    "print('\\nAxis=0')\n",
    "print('\\tMax:', b.max(axis=0))\n",
    "print('\\tMin:', b.min(axis=0))\n",
    "print('\\tMean:', b.mean(axis=0))\n",
    "print('\\tSum:', b.sum(axis=0))\n",
    "print('Axis=1')\n",
    "print('\\tMax:', b.max(axis=1))\n",
    "print('\\tMin:', b.min(axis=1))\n",
    "print('\\tMean:', b.mean(axis=1))\n",
    "print('\\tSum:', b.sum(axis=1))"
   ]
  },
  {
   "cell_type": "markdown",
   "id": "cedd38b4-5229-475e-a35e-9f731fd698da",
   "metadata": {},
   "source": [
    "## NumPyのブロードキャスト"
   ]
  },
  {
   "cell_type": "markdown",
   "id": "51c89b16-b030-4789-a01c-53a7653f5f5d",
   "metadata": {},
   "source": [
    "ここで、行列のすべての要素に100を足すことを考えてみる。NumPyの場合、次のように計算できる。"
   ]
  },
  {
   "cell_type": "code",
   "execution_count": null,
   "id": "f7d05a08-93a3-43fa-9082-230815b91914",
   "metadata": {},
   "outputs": [],
   "source": [
    "print(b + 100)"
   ]
  },
  {
   "cell_type": "markdown",
   "id": "5636ca79-1dbe-44b2-9f35-7a19711b12a5",
   "metadata": {},
   "source": [
    "NumPyでは、「ブロードキャスト」という機能によって、行列の形状が揃っていないとき、サイズが小さい方を同じ要素のコピーで自動的に拡張して計算する。\n",
    "\n",
    "上記の計算は実質的には次の計算と同じで、行列bのサイズに合わせて100をコピーした行列を作って計算している。"
   ]
  },
  {
   "cell_type": "code",
   "execution_count": null,
   "id": "620db3b6-2b38-4109-87d5-d5e35240cb16",
   "metadata": {},
   "outputs": [],
   "source": [
    "# bの形状ですべての要素が1の行列を作って、100をかけたものを足す\n",
    "print(b + np.ones(b.shape) * 100)"
   ]
  },
  {
   "cell_type": "markdown",
   "id": "c4edfbe3-f151-4007-b365-5a60444ccbf2",
   "metadata": {},
   "source": [
    "もう少し複雑な例として今度は、bの各列をそれぞれ10, 100, 1000で割り算してみる。"
   ]
  },
  {
   "cell_type": "code",
   "execution_count": null,
   "id": "74147386-86f7-42f4-8389-becab914ab6f",
   "metadata": {},
   "outputs": [],
   "source": [
    "print(b / [10, 100, 1000])"
   ]
  },
  {
   "cell_type": "markdown",
   "id": "d9ea17c8-b178-4ae7-8e56-d521f8a2c35a",
   "metadata": {},
   "source": [
    "この場合も、\\[10, 100, 1000\\]の配列が自動的にコピーされ（タテに2つぶんブロードキャストされて）、割り算が計算されている。\n",
    "\n",
    "bの2つの「行」をそれぞれ10, 100で割り算する場合は、列ベクトルの生成が必要。"
   ]
  },
  {
   "cell_type": "code",
   "execution_count": null,
   "id": "7cedf29d-db5f-41c4-bdd2-d7414cc82d82",
   "metadata": {},
   "outputs": [],
   "source": [
    "# reshape(-1, 1)で列ベクトルに変換する\n",
    "col_vec = np.array([10, 100]).reshape(-1, 1)\n",
    "print(col_vec)\n",
    "print(b / col_vec)"
   ]
  },
  {
   "cell_type": "markdown",
   "id": "a3c17c70-7260-4dc2-907d-c88d93303fc4",
   "metadata": {},
   "source": [
    "## 乱数"
   ]
  },
  {
   "cell_type": "markdown",
   "id": "255b227f-e7ed-4d48-a567-90120ff0f99c",
   "metadata": {},
   "source": [
    "様々な確率分布にしたがう乱数を生成する機能がそろっている。\n",
    "\n",
    "デフォルトの擬似乱数生成器は[PCG64](https://ja.wikipedia.org/wiki/Permuted_congruential_generator)。"
   ]
  },
  {
   "cell_type": "code",
   "execution_count": null,
   "id": "a35b61c5-aa7c-438d-946b-7d4ec6f24d36",
   "metadata": {},
   "outputs": [],
   "source": [
    "rn_gen = np.random.default_rng()"
   ]
  },
  {
   "cell_type": "markdown",
   "id": "72a0dd9f-5585-4984-9d5b-d93da1b63170",
   "metadata": {},
   "source": [
    "\\[0.0, 1.0) の一様分布。"
   ]
  },
  {
   "cell_type": "code",
   "execution_count": null,
   "id": "30ee9cc4-d893-4763-8a5d-63c611773760",
   "metadata": {},
   "outputs": [],
   "source": [
    "rn_gen.random(size=(5, 3))"
   ]
  },
  {
   "cell_type": "markdown",
   "id": "6a74a79d-06cc-419f-b36c-6808e42bd9df",
   "metadata": {},
   "source": [
    "平均50, 標準偏差10の正規分布。"
   ]
  },
  {
   "cell_type": "code",
   "execution_count": null,
   "id": "f66c2dec-5f7c-4ba2-9df0-8ba3f44099d6",
   "metadata": {},
   "outputs": [],
   "source": [
    "rn_gen.normal(size=(5, 3), loc=50, scale=10)"
   ]
  },
  {
   "cell_type": "markdown",
   "id": "d18f004a-7b3d-46ae-8bdf-3da694d46378",
   "metadata": {},
   "source": [
    "平均4のポアソン分布。"
   ]
  },
  {
   "cell_type": "code",
   "execution_count": null,
   "id": "c7c41e2f-6177-476a-bc1e-390141a4a425",
   "metadata": {},
   "outputs": [],
   "source": [
    "rn_gen.poisson(size=(5, 3), lam=4)"
   ]
  },
  {
   "cell_type": "markdown",
   "id": "8239dbac-61d7-403d-aadf-e3427d5d1687",
   "metadata": {},
   "source": [
    "## 例題：円周率のモンテカルロ計算"
   ]
  },
  {
   "cell_type": "markdown",
   "id": "089c1a53-a6f2-4f4f-9277-8493cfe2208e",
   "metadata": {},
   "source": [
    "有名な数値計算の問題。\n",
    "\n",
    "$x \\in [0, 1) $,\n",
    "$y \\in [0, 1) $\n",
    "\n",
    "の正方形のエリアにダーツを投げて、\n",
    "\n",
    "$x^2 + y^2 < 1$\n",
    "\n",
    "のエリア（半径1の円の4分の1）に当たるダーツの割合を数える。\n",
    "\n",
    "それを4倍すると円周率 $\\pi$ の近似値が計算できる。"
   ]
  },
  {
   "cell_type": "code",
   "execution_count": null,
   "id": "2d870eeb",
   "metadata": {},
   "outputs": [],
   "source": [
    "n_darts = 100_000_000\n",
    "\n",
    "darts = rn_gen.random(size=(n_darts, 2))\n",
    "4 * ((darts**2).sum(axis=1) < 1.0).astype(int).sum() / n_darts"
   ]
  },
  {
   "cell_type": "code",
   "execution_count": null,
   "id": "ee3e6fdf",
   "metadata": {},
   "outputs": [],
   "source": []
  }
 ],
 "metadata": {
  "kernelspec": {
   "display_name": "Python 3 (ipykernel)",
   "language": "python",
   "name": "python3"
  },
  "language_info": {
   "codemirror_mode": {
    "name": "ipython",
    "version": 3
   },
   "file_extension": ".py",
   "mimetype": "text/x-python",
   "name": "python",
   "nbconvert_exporter": "python",
   "pygments_lexer": "ipython3",
   "version": "3.9.15"
  }
 },
 "nbformat": 4,
 "nbformat_minor": 5
}
