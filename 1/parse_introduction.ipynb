{
 "cells": [
  {
   "cell_type": "markdown",
   "metadata": {},
   "source": [
    "# 文字列処理"
   ]
  },
  {
   "cell_type": "markdown",
   "metadata": {},
   "source": [
    "パソコンで扱うファイルは，テキストファイルとバイナリファイルに大別される．テキストファイル内に記載されている文字列情報の中から，目的の情報を抽出することが有益となることが多い．また，頻繁にその対応に迫られる．\n",
    "\n",
    "生命科学においては，様々なフォーマットに様々な情報が記載されており，一つのファイルで全ての情報を得ることが容易ではない．多くの場合，複数のファイルから相互参照などを行うことで目的の情報を抽出することになる．\n",
    "\n",
    "そのためにも，Pythonなどのスクリプト言語によって，テキストファイル処理を習得することは，生物情報をより広範に整理・収集する有効な手立てとなる．"
   ]
  },
  {
   "cell_type": "markdown",
   "metadata": {},
   "source": [
    "## テキストファイル"
   ]
  },
  {
   "cell_type": "markdown",
   "metadata": {},
   "source": [
    "テキストファイル (Text File) は，文字など文字コードによって表されるデータだけが含まれるファイルのことで，ファイルフォーマットの一種と見なすこともできる．互換性が高く幅広い環境でデータを利用できる利点がある一方，単純な文字だけしか扱えないという制限がある．\n",
    "\n",
    "テキストファイル処理時には，ファイルの構造を理解しておくことが重要となる．例えば，塩基位置は，ファイル形式ごとに最初の塩基を0番目と扱うのか，1番目と扱うかの違いがある．従って，それぞれのファイル形式の定義を参照して，思い通りの情報を得られているかについては，その都度しっかりと確認する必要がある．\n",
    "\n",
    "生命情報で頻出するファイル形式としては，以下ものが挙げられる．\n",
    "\n",
    "| ファイル形式 | 格納情報 | 参照 |\n",
    "|:---|:---|:---|\n",
    "|FASTA| DNAやアミノ酸などの配列データ |https://ja.wikipedia.org/wiki/FASTA |\n",
    "| GFF3 File Format | 遺伝子アノテーション情報 | http://gmod.org/wiki/GFF3　<br> https://github.com/The-Sequence-Ontology/Specifications/blob/master/gff3.md |\n",
    "|SAM (Sequence Alignment/Map Format)|NGSリードのマッピング結果| https://samtools.github.io/hts-specs/SAMv1.pdf <br> https://cell-innovation.nig.ac.jp/surfers/SAM.html |\n",
    "| FASTQ |DNAなどの塩基配列とそのクオリティスコア| https://ja.wikipedia.org/wiki/Fastq |\n",
    "\n",
    "GFF3やSAMのように，複数列から成るテキストファイルを扱うことが多い．列の区切り文字としては，``タブ(\\t)``，``スペース( )``，``comma(,)``が主に用いられている．"
   ]
  },
  {
   "cell_type": "markdown",
   "metadata": {},
   "source": [
    "## バイナリファイル"
   ]
  },
  {
   "cell_type": "markdown",
   "metadata": {},
   "source": [
    "テキストとはデータの内容すべてを人間が読んで理解できる (human-readable) もの，バイナリとはそうでないものを指す．\n",
    "例えば，画像ファイル，音声ファイル，圧縮ファイルなどはバイナリファイルである．\n",
    "\n",
    "\n",
    "| ファイル形式 | 説明 | 参照 |\n",
    "|:---|:---|:---|\n",
    "| gz | 「gzip」コマンドで圧縮した圧縮ファイルに付く拡張子 | https://ja.wikipedia.org/wiki/Gzip |\n",
    "|BAM (Binary Alignment Map)|NGSリードのマッピング結果 | https://samtools.github.io/hts-specs/SAMv1.pdf <br> https://cell-innovation.nig.ac.jp/surfers/SAM.html |\n"
   ]
  },
  {
   "cell_type": "markdown",
   "metadata": {},
   "source": [
    "# ファイルの読み書き"
   ]
  },
  {
   "cell_type": "markdown",
   "metadata": {},
   "source": [
    "プログラムで処理した結果を保存しておきたい場合や，外部からPythonにデータを取り込む場合にファイルを使用する．\n",
    "\n",
    "Pythonでファイルを操作するためには，組み込み型の**ファイル型**を使うことができます．特別な宣言は不要で，**open**関数を使用して，ファイルの読み書きを行う．open関数は，ファイルを開き、対応するファイルオブジェクトを返します．ファイルを開くことができなければ、OSErrorが返されます．\n",
    "\n",
    "``open(filename, mode)``\n",
    "- `filename`は，ファイルに付けられた名前の文字列\n",
    "- `mode`は，ファイルのタイプやファイルをどのように操作したいかを知らせるための文字列\n",
    "\n",
    "`open`でファイルを開いたら，`close`によってファイルを閉じる必要があります．しかしながら，`with文法`を使うことで，`close`処理が不要になります．`with文`では，ファイルが存在する場合はファイルを開いて，処理を実行し，最後に`close`処理も実行されます．\n",
    "ファイルが存在しない場合には，実行しない仕組みになっています．\n",
    "\n",
    "|mode|説明|\n",
    "|:---|:---|\n",
    "|r|ファイルを読み込み専用で開く (デフォルト)|\n",
    "|w|ファイルを書き出し専用で開く|\n",
    "|a|ファイルの最後に追記|\n",
    "|x|ファイルを書き出し専用で開く<br>ファイルが存在しない場合のみ|\n",
    "|+|読み込みと書き込みの両方を可能する <br> 「r+」「w+」|\n",
    "|b|ファイルをバイナリモードで開く|\n"
   ]
  },
  {
   "cell_type": "markdown",
   "metadata": {},
   "source": [
    "### ファイルを読み込む"
   ]
  },
  {
   "cell_type": "markdown",
   "metadata": {},
   "source": [
    "ファイルの読み込みは，`open`を使用する．`as`に続く変数にファイルオブジェクトが代入されます．\n",
    "\n",
    "\n",
    "```python\n",
    "with open (filename, 'r') as f: # 'r'は省略化\n",
    "```"
   ]
  },
  {
   "cell_type": "markdown",
   "metadata": {},
   "source": [
    "### ファイルに書き込む"
   ]
  },
  {
   "cell_type": "markdown",
   "metadata": {},
   "source": [
    "ファイルの書き込みは，読み込み同様`open`を使用する．ただし，`mode='w'`とする．\n",
    "\n",
    "```python\n",
    "with open (filename, 'w') as f:\n",
    "```"
   ]
  },
  {
   "cell_type": "markdown",
   "metadata": {},
   "source": [
    "### 改行コード"
   ]
  },
  {
   "cell_type": "markdown",
   "metadata": {},
   "source": [
    "**改行コード**とは，改行を表す制御文字である．文字列の中で改行がある部分に対して，改行を指示する文字コードになります．OSで改行コードが異なる．\n",
    "\n",
    "|改行コード|見え方|System|\n",
    "|:---|:---|:---|\n",
    "| CR | \\r | mac|\n",
    "| LF |\\n|unix|\n",
    "| CR+LF |\\r\\n|win|"
   ]
  },
  {
   "cell_type": "markdown",
   "metadata": {},
   "source": [
    "## ファイル読み込み"
   ]
  },
  {
   "cell_type": "markdown",
   "metadata": {},
   "source": [
    "酵母のgffファイル's288c_n20.gff'（最初の20行だけを抽出）を題材として，ファイル読み込みを行います．"
   ]
  },
  {
   "cell_type": "code",
   "execution_count": null,
   "metadata": {},
   "outputs": [],
   "source": [
    "#ファイルの中身を確認する\n",
    "%cat ./input/s288c_n20.gff"
   ]
  },
  {
   "cell_type": "markdown",
   "metadata": {},
   "source": [
    "GFF3は，9列からなるテキストファイルで，\n",
    "各列は，``タブ(\\t)``で区切られている．\n",
    "\n",
    "|列数|名前|情報|例（19行目）|\n",
    "|:---|:---|:---|:---|\n",
    "|1|seqid|染色体名やスキャッフォールド名|NC_001133.9|\n",
    "|2|source|プロジェクト名やソフトウエア名など自由記載|RefSeq|\n",
    "|3|type|属性型|CDS|\n",
    "|4|start|開始位置|2480|\n",
    "|5|end|終点位置|2707|\n",
    "|6|score|スコア（.はスコアなし）|.|\n",
    "|7|strand|ストランドの向き|+|\n",
    "|8|phase|読み枠に関する情報（0,1,2）<br> CDS featureの場合には必須|0|\n",
    "|9|attributes|付属情報（``セミコロン(;)``区切り）<br>パーセントエンコーディング（URL エンコード）|ID=cds1;Parent=rna1;Dbxref=SGD:S000028593,GeneID:1466426...|\n",
    "\n",
    "19行目のattributesは以下のようになっている．\n",
    "`ID=cds1;Parent=rna1;Dbxref=SGD:S000028593,GeneID:1466426,Genbank:NP_878038.1;Name=NP_878038.1;Note=hypothetical protein%3B identified by gene-trapping%2C microarray-based expression analysis%2C and genome-wide homology searching;gbkey=CDS;product=hypothetical protein;protein_id=NP_878038.1`\n",
    "\n",
    "|タグ|情報|\n",
    "|:---|:---|\n",
    "|ID|cds1|\n",
    "|Parent|rna1|\n",
    "|Dbxref|SGD:S000028593,GeneID:1466426,Genbank:NP_878038.1|\n",
    "|Name|NP_878038.1|\n",
    "|Note|hypothetical protein%3B identified by gene-trapping%2C microarray-based expression analysis%2C and genome-wide homology searching|\n",
    "|gbkey|CDS\n",
    "|product|hypothetical protein|\n",
    "|protein_id|NP_878038.1|\n",
    "\n",
    "**Note**はURLエンコーディンク記法が採用されている．\n",
    "- ; semicolon (%3B)\n",
    "- = equals (%3D)\n",
    "- & ampersand (%26)\n",
    "- , comma (%2C)\n",
    "\n",
    "|URLエンコード|URLデコード|\n",
    "|:---|:---|\n",
    "|hypothetical protein%3B identified by gene-trapping%2C microarray-based expression analysis%2C and genome-wide homology searching|hypothetical protein; identified by gene-trapping, microarray-based expression analysis, and genome-wide homology searching|"
   ]
  },
  {
   "cell_type": "markdown",
   "metadata": {},
   "source": [
    "### 読み込み1"
   ]
  },
  {
   "cell_type": "markdown",
   "metadata": {},
   "source": [
    "早速，ファイルを読み込んでみよう．\n",
    "\n",
    "- 's288c_n20.gff'を読み込んで出力する．一行目だけ出力する．"
   ]
  },
  {
   "cell_type": "code",
   "execution_count": null,
   "metadata": {},
   "outputs": [],
   "source": [
    "input_gff = \"./input/s288c_n20.gff\"\n",
    "with open(input_gff) as f: #ファイルオープン\n",
    "    line = f.readline()  # 一行読み込み\n",
    "    print(line)        # 出力"
   ]
  },
  {
   "cell_type": "markdown",
   "metadata": {},
   "source": [
    "1行目`##gff-version 3`が，読み込こまれました．`readline()`メソッドは，ファイルから1行読み込み，文字列を返します．テキストファイルをプログラムで処理する場合は，1行ごとに読み込んで処理することが多いことから，`readline()`メソッドを用いた例を紹介しています．`read()`メソッドは，ファイル全体を読み込むことが可能ですが，ファイルサイズが大きい場合には，注意が必要です．"
   ]
  },
  {
   "cell_type": "markdown",
   "metadata": {},
   "source": [
    "### 読み込み2"
   ]
  },
  {
   "cell_type": "markdown",
   "metadata": {},
   "source": [
    "1行目だけではなく，ファイル全体を読み込みましょう．\n",
    "- s288c_n20.gffを読み込んで出力する．"
   ]
  },
  {
   "cell_type": "code",
   "execution_count": null,
   "metadata": {},
   "outputs": [],
   "source": [
    "with open(input_gff) as f:\n",
    "    for line in f:     # 一行ずつ読み込み\n",
    "        print(line)    # 出力"
   ]
  },
  {
   "cell_type": "markdown",
   "metadata": {},
   "source": [
    "`for`ループを使い，ファイルから1行ずつ読み込み，出力しました．出力結果には空行が追加されているはずです．`print(line, end='') `とすることで，改行コードを付与しない出力も可能ですが，その都度気にして作業することはあまりないと思います．"
   ]
  },
  {
   "cell_type": "markdown",
   "metadata": {},
   "source": [
    "### 読み込み3 "
   ]
  },
  {
   "cell_type": "markdown",
   "metadata": {},
   "source": [
    "- s288c_n20.gffを読み込んで出力する．改行コード削除を実行する．"
   ]
  },
  {
   "cell_type": "code",
   "execution_count": null,
   "metadata": {},
   "outputs": [],
   "source": [
    "with open(input_gff) as f:\n",
    "    for line in f:\n",
    "        line = line.rstrip()  # 改行コードの削除\n",
    "        print(line)"
   ]
  },
  {
   "cell_type": "markdown",
   "metadata": {},
   "source": [
    "これで，元のファイルと同じ出力結果となりました．`str.rstrip()`メソッドは，引数に何も指定しない場合は，文字列の末尾部分の空白文字（スペース (space)、タブ (tab)、改行 (linefeed)、復帰 (return)、改頁 (formfeed)、垂直タブ (vertical tab) ）を除去します．あくまで好みの問題ですが，筆者は見えない末尾の空白文字は，最初に削除して処理することを心がけています．"
   ]
  },
  {
   "cell_type": "markdown",
   "metadata": {},
   "source": [
    "### 読み込み4"
   ]
  },
  {
   "cell_type": "markdown",
   "metadata": {},
   "source": [
    "目的とする情報のみを抽出することが可能です．\n",
    "- s288c_n20.gffを読み込んで出力する．改行コード削除を実行する．``#``で始まる行だけを出力する．"
   ]
  },
  {
   "cell_type": "code",
   "execution_count": null,
   "metadata": {},
   "outputs": [],
   "source": [
    "with open(input_gff) as f:\n",
    "    for line in f:\n",
    "        line = line.rstrip()\n",
    "        \n",
    "        if line.startswith('#'):  # ’#’で始まるかどうか\n",
    "            print(line)"
   ]
  },
  {
   "cell_type": "markdown",
   "metadata": {},
   "source": [
    "`#`で始まるヘッダー行だけを抽出することができました．"
   ]
  },
  {
   "cell_type": "markdown",
   "metadata": {},
   "source": [
    "### 読み込み5"
   ]
  },
  {
   "cell_type": "markdown",
   "metadata": {},
   "source": [
    "- s288c_n20.gffを読み込んで出力する．改行コード削除を実行する．``#``で始まる行以外を出力する．"
   ]
  },
  {
   "cell_type": "code",
   "execution_count": null,
   "metadata": {},
   "outputs": [],
   "source": [
    "with open(input_gff) as f:\n",
    "    for line in f:\n",
    "        line = line.rstrip()\n",
    "        \n",
    "        if line.startswith('#'): # ’#’で始まるかどうか\n",
    "            continue\n",
    "        print(line)"
   ]
  },
  {
   "cell_type": "markdown",
   "metadata": {},
   "source": [
    "### 読み込み6"
   ]
  },
  {
   "cell_type": "markdown",
   "metadata": {},
   "source": [
    "- s288c_n20.gffを読み込んで出力する．改行コード削除を実行する．``#``で始まる行以外を出力する．9列目のデータのみを出力する．"
   ]
  },
  {
   "cell_type": "code",
   "execution_count": null,
   "metadata": {},
   "outputs": [],
   "source": [
    "with open(input_gff) as f:\n",
    "    for line in f:\n",
    "        line = line.rstrip()\n",
    "\n",
    "        if line.startswith('#'):\n",
    "            continue\n",
    "        s = line.split('\\t')  # タブで区切る\n",
    "        print(s[8])         # 9列目を出力"
   ]
  },
  {
   "cell_type": "markdown",
   "metadata": {},
   "source": [
    "### 読み込み7"
   ]
  },
  {
   "cell_type": "markdown",
   "metadata": {},
   "source": [
    "- s288c_n20.gffを読み込んで出力する．改行コード削除を実行する．``#``で始まる行以外を出力する．9列目のデータのみを出力する．`;`で区切る．"
   ]
  },
  {
   "cell_type": "code",
   "execution_count": null,
   "metadata": {},
   "outputs": [],
   "source": [
    "with open(input_gff) as f:\n",
    "    for line in f:\n",
    "        line = line.rstrip()\n",
    "        if line.startswith('#'):\n",
    "            continue\n",
    "        \n",
    "        s = line.split('\\t')\n",
    "        items = s[8].split(';') # 9列目を”;”で区切る\n",
    "        for item in items:    # リストを一つずつ\n",
    "            print(item)       # 出力"
   ]
  },
  {
   "cell_type": "markdown",
   "metadata": {},
   "source": [
    "### 読み込み8"
   ]
  },
  {
   "cell_type": "markdown",
   "metadata": {},
   "source": [
    "- s288c_n20.gffを読み込んで出力する．改行コード削除を実行する．``#``で始まる行以外を出力する．9列目のデータのみを出力する．`;`で区切る．`product`を抽出する．"
   ]
  },
  {
   "cell_type": "code",
   "execution_count": null,
   "metadata": {},
   "outputs": [],
   "source": [
    "with open(input_gff) as f:\n",
    "    for line in f:\n",
    "        line = line.rstrip()\n",
    " \n",
    "        if line.startswith('#'):\n",
    "            continue\n",
    "        s = line.split('\\t')\n",
    "        items = s[8].split(';')\n",
    "        for item in items:\n",
    "            if item.startswith('product='):\n",
    "                print(item)"
   ]
  },
  {
   "cell_type": "markdown",
   "metadata": {},
   "source": [
    "### 読み込み9"
   ]
  },
  {
   "cell_type": "markdown",
   "metadata": {},
   "source": [
    "- s288c_n20.gffを読み込んで出力する．改行コード削除を実行する．``#``で始まる行以外を出力する．9列目のデータを全て辞書型で取得する．"
   ]
  },
  {
   "cell_type": "code",
   "execution_count": null,
   "metadata": {},
   "outputs": [],
   "source": [
    "with open(input_gff) as f:\n",
    "    for line in f:\n",
    "        line = line.rstrip()\n",
    " \n",
    "        if line.startswith('#'):\n",
    "            continue\n",
    "        s = line.split('\\t')\n",
    "        items = s[8].split(';')\n",
    "        tags = dict([(tmp.split('=')) for tmp in items]) # リスト内包表記で一括取得\n",
    "        print(tags)"
   ]
  },
  {
   "cell_type": "markdown",
   "metadata": {},
   "source": [
    "### 読み込み10"
   ]
  },
  {
   "cell_type": "markdown",
   "metadata": {},
   "source": [
    "- s288c_n20.gffを読み込んで出力する．改行コード削除を実行する．``#``で始まる行以外を出力する．9列目の`Note`データのみを出力する．"
   ]
  },
  {
   "cell_type": "code",
   "execution_count": null,
   "metadata": {},
   "outputs": [],
   "source": [
    "with open(input_gff) as f:\n",
    "    for line in f:\n",
    "        line = line.rstrip()\n",
    " \n",
    "        if line.startswith('#'):\n",
    "            continue\n",
    "        s = line.split('\\t')\n",
    "        items = s[8].split(';')\n",
    "        tags = dict([(tmp.split('=')) for tmp in items]) \n",
    "\n",
    "        if 'Note' in tags:      # Noteタグの有無\n",
    "            print(tags['Note']) # Noteの内容を出力"
   ]
  },
  {
   "cell_type": "markdown",
   "metadata": {},
   "source": [
    "### 読み込み11"
   ]
  },
  {
   "cell_type": "markdown",
   "metadata": {},
   "source": [
    "- s288c_n20.gffを読み込んで出力する．改行コード削除を実行する．``#``で始まる行以外を出力する．9列目の`Note`データをURLデコードして，出力する．"
   ]
  },
  {
   "cell_type": "code",
   "execution_count": null,
   "metadata": {},
   "outputs": [],
   "source": [
    "import urllib.parse   # urllib.parseモジュールをインポート\n",
    "with open(input_gff) as f:\n",
    "    for line in f:\n",
    "        line = line.rstrip()\n",
    " \n",
    "        if line.startswith('#'):\n",
    "            continue\n",
    "        s = line.split('\\t')\n",
    "        items = s[8].split(';')\n",
    "        tags = dict([(tmp.split('=')) for tmp in items]) \n",
    "\n",
    "        if 'Note' in tags:     \n",
    "            print(urllib.parse.unquote(tags['Note'])) # Noteの内容をデコードして出力"
   ]
  },
  {
   "cell_type": "markdown",
   "metadata": {},
   "source": [
    "urllib.parseモジュールを使えば，URLエンコード，デコードが実現できます．"
   ]
  },
  {
   "cell_type": "markdown",
   "metadata": {},
   "source": [
    "### 読み込み その他"
   ]
  },
  {
   "cell_type": "markdown",
   "metadata": {},
   "source": [
    "2019年度の講習会時に頂いた質問です．\n",
    "- ファイルの3行目から読み込みたい場合は，どのようにすれば良いでしょうか？"
   ]
  },
  {
   "cell_type": "code",
   "execution_count": null,
   "metadata": {},
   "outputs": [],
   "source": [
    "with open(input_gff) as f:\n",
    "    f.readline()      # 1行目の読み込みを実行\n",
    "    f.readline()      # 2行目の読み込みを実行\n",
    "    for line in f:    # 3行目からの読み込みを実行\n",
    "        line = line.rstrip()\n",
    "        print(line)"
   ]
  },
  {
   "cell_type": "markdown",
   "metadata": {},
   "source": [
    "`readline()`を2回実行することで，最初の2行を読み込んだことになります．その後に，`for`ループを用いることで，3行目からの処理が可能となりました．"
   ]
  },
  {
   "cell_type": "code",
   "execution_count": null,
   "metadata": {},
   "outputs": [],
   "source": []
  },
  {
   "cell_type": "markdown",
   "metadata": {},
   "source": [
    "## アノテーションデータの処理例"
   ]
  },
  {
   "cell_type": "markdown",
   "metadata": {},
   "source": [
    "テキストファイル処理の例として，遺伝子アノテーション情報を例にする．`EggNOG-mapper`は，遺伝子機能のアノテーションツールの一つであり，多岐に渡る情報が付与される．  \n",
    "\n",
    "- eggNOG_OGs\n",
    "- COG_cat\n",
    "- Preferred_name\n",
    "- GOs\n",
    "- EC\n",
    "- KEGG_ko\n",
    "- KEGG_Pathway\n",
    "- KEGG_Module\n",
    "- KEGG_Reaction\n",
    "- KEGG_rclass\n",
    "- BRITE\n",
    "- KEGG_TC\n",
    "- CAZy\n",
    "- BiGG_Reaction\n",
    "- PFAMs\n",
    "などの情報が付与された結果ファイルを得ることができる．"
   ]
  },
  {
   "cell_type": "markdown",
   "metadata": {},
   "source": [
    "大腸菌のアミノ酸配列を`EggNOG-mapper`にかけて得られた結果ファイル`ecoli_eggnog.emapper.annotations`を使用して進める．"
   ]
  },
  {
   "cell_type": "code",
   "execution_count": null,
   "metadata": {},
   "outputs": [],
   "source": [
    "!head input/ecoli_eggnog.emapper.annotations"
   ]
  },
  {
   "cell_type": "markdown",
   "metadata": {},
   "source": [
    "### CAZy"
   ]
  },
  {
   "cell_type": "markdown",
   "metadata": {},
   "source": [
    "CAZyは，carbohydorateの合成，修飾，分解それぞれの酵素情報のデータベースである．  \n",
    "http://www.cazy.org"
   ]
  },
  {
   "cell_type": "markdown",
   "metadata": {},
   "source": [
    "結果ファイルから，どの酵素がいくつ検出されたのかを集計してみる．  \n",
    "CAZyの情報は，19列目に記載されている．\n",
    "\n",
    "ヒットしなかった場合は，`'-'`，複数のヒットがある場合は，`','`で区切られている．"
   ]
  },
  {
   "cell_type": "code",
   "execution_count": null,
   "metadata": {},
   "outputs": [],
   "source": [
    "input_ant = 'input/ecoli_eggnog.emapper.annotations'\n",
    "\n",
    "cazy = {}\n",
    "\n",
    "with open(input_ant) as f:\n",
    "    for line in f:\n",
    "        line = line.rstrip()\n",
    "        \n",
    "        if line.startswith('#'):\n",
    "            continue\n",
    "            \n",
    "        s = line.split('\\t')\n",
    "        \n",
    "        caz = s[18]\n",
    "        \n",
    "        if caz == '-':\n",
    "            continue\n",
    "        \n",
    "        for item in caz.split(','):\n",
    "            if caz in cazy:\n",
    "                cazy[item] += 1\n",
    "            else:\n",
    "                cazy[item] = 1"
   ]
  },
  {
   "cell_type": "code",
   "execution_count": null,
   "metadata": {},
   "outputs": [],
   "source": [
    "cazy"
   ]
  },
  {
   "cell_type": "markdown",
   "metadata": {},
   "source": [
    "`GT2 (GlycosylTransferase Family 2)`の酵素が9つあることが分かった．  \n",
    "結果を見やすくするため，数が多い順で並び替えてみる．"
   ]
  },
  {
   "cell_type": "code",
   "execution_count": null,
   "metadata": {},
   "outputs": [],
   "source": [
    "sorted(cazy.items(), key=lambda x:x[1], reverse=True)"
   ]
  },
  {
   "cell_type": "markdown",
   "metadata": {},
   "source": [
    "### COG"
   ]
  },
  {
   "cell_type": "markdown",
   "metadata": {},
   "source": [
    "COGは，遺伝子の機能分類に関するデータベースである．\n",
    "https://www.ncbi.nlm.nih.gov/research/cog/"
   ]
  },
  {
   "cell_type": "markdown",
   "metadata": {},
   "source": [
    "結果ファイルから，どの酵素がいくつ検出されたのかを集計してみる．  \n",
    "COGの情報は，7列目に記載されている．\n",
    "\n",
    "ヒットしなかった場合は，`'-'`，ヒットした場合は，文字（列）で表現されている．  \n",
    "各文字と機能の関係については下記の表の通りである．"
   ]
  },
  {
   "cell_type": "markdown",
   "metadata": {},
   "source": [
    "|Functional category ID <br> (one letter)| Functional category description|\n",
    "|:--:|:---|\n",
    "|J|\tTranslation, ribosomal structure and biogenesis|\n",
    "|A|\tRNA processing and modification|\n",
    "|K|\tTranscription |\n",
    "|L|\tReplication, recombination and repair |\n",
    "|B|\tChromatin structure and dynamics|\n",
    "|D|\tCell cycle control, cell division, chromosome partitioning|\n",
    "|Y|\tNuclear structure|\n",
    "|V|\tDefense mechanisms|\n",
    "|T|\tSignal transduction mechanisms|\n",
    "|M|\tCell wall/membrane/envelope biogenesis|\n",
    "|N|\tCell motility|\n",
    "|Z|\tCytoskeleton|\n",
    "|W|\tExtracellular structures| |\n",
    "|U|\tIntracellular trafficking, secretion, and vesicular transport|\n",
    "|O|\tPosttranslational modification, protein turnover, chaperones|\n",
    "|X|\tMobilome: prophages, transposons|\n",
    "|C|\tEnergy production and conversion|\n",
    "|G|\tCarbohydrate transport and metabolism|\n",
    "|E|\tAmino acid transport and metabolism|\n",
    "|F|\tNucleotide transport and metabolism|\n",
    "|H|\tCoenzyme transport and metabolism|\n",
    "|I|\tLipid transport and metabolism|\n",
    "|P|\tInorganic ion transport and metabolism|\n",
    "|Q|\tSecondary metabolites biosynthesis, transport and catabolism|\n",
    "|R|\tGeneral function prediction only|\n",
    "|S|\tFunction unknown|"
   ]
  },
  {
   "cell_type": "code",
   "execution_count": null,
   "metadata": {},
   "outputs": [],
   "source": [
    "input_ant = 'input/ecoli_eggnog.emapper.annotations'\n",
    "\n",
    "COG = {'J':0, 'A':0, 'K':0, 'L':0, 'B':0, \n",
    "    'D':0, 'Y':0, 'V':0, 'T':0, 'M':0,\n",
    "    'N':0, 'Z':0, 'W':0, 'U':0, 'O':0,\n",
    "    'X':0, 'C':0, 'G':0, 'E':0, 'F':0,\n",
    "    'H':0, 'I':0, 'P':0, 'Q':0, 'R':0,\n",
    "    'S':0}\n",
    "\n",
    "with open(input_ant) as f:\n",
    "    for line in f:\n",
    "        line = line.rstrip()\n",
    "        \n",
    "        if line.startswith('#'):\n",
    "            continue\n",
    "            \n",
    "        s = line.split('\\t')\n",
    "        \n",
    "        cog = s[6]\n",
    "        \n",
    "        if cog == '-':\n",
    "            continue\n",
    "        \n",
    "        for item in cog:\n",
    "            if item in COG:\n",
    "                COG[item] += 1"
   ]
  },
  {
   "cell_type": "code",
   "execution_count": null,
   "metadata": {},
   "outputs": [],
   "source": [
    "COG"
   ]
  },
  {
   "cell_type": "markdown",
   "metadata": {},
   "source": [
    "同様に，数の多い順に並べ替えてみる．"
   ]
  },
  {
   "cell_type": "code",
   "execution_count": null,
   "metadata": {},
   "outputs": [],
   "source": [
    "sorted(COG.items(), key=lambda x:x[1], reverse=True)"
   ]
  },
  {
   "cell_type": "code",
   "execution_count": null,
   "metadata": {},
   "outputs": [],
   "source": []
  },
  {
   "cell_type": "markdown",
   "metadata": {},
   "source": [
    "## 書き込み"
   ]
  },
  {
   "cell_type": "markdown",
   "metadata": {},
   "source": [
    "### 書き込み1"
   ]
  },
  {
   "cell_type": "markdown",
   "metadata": {},
   "source": [
    "`open(file, mode='w')`とすれば，ファイルへの書き込みができます．\n",
    "- \"Hello world!\\n\"をtest1.txtに出力する．"
   ]
  },
  {
   "cell_type": "code",
   "execution_count": null,
   "metadata": {},
   "outputs": [],
   "source": [
    "output = \"./output/test1.txt\"   # ファイル名\n",
    "out = \"Hello world!\\n\"          # 出力\n",
    "with open(output, 'w') as f:  # ファイルオープン\n",
    "    f.write(out)              # ファイルへ書き込み"
   ]
  },
  {
   "cell_type": "markdown",
   "metadata": {},
   "source": [
    "`test1.txt`ファイルが`output`ディレクトリ下に作成されました．中身を確認すると，`Hello world!`となっています．\n",
    "`output`ディレクトリがない場合は，`FileNotFoundError: No such file or directory: './output/test1.txt'`となります．\n",
    "\n",
    "`mode`オプションを変更することで，上書きするのか，追記するのか，新規作成するのかが設定できます．"
   ]
  },
  {
   "cell_type": "markdown",
   "metadata": {},
   "source": [
    "### 書き込み2"
   ]
  },
  {
   "cell_type": "markdown",
   "metadata": {},
   "source": [
    "- \"Hello world!\\n\"をtest1.txtに出力する．ファイルが存在する場合は，上書きしない．"
   ]
  },
  {
   "cell_type": "code",
   "execution_count": null,
   "metadata": {},
   "outputs": [],
   "source": [
    "output = \"./output/test1.txt\"   # ファイル名\n",
    "out = \"Hello world!\\n\"          # 出力\n",
    "with open(output, 'x') as f:  # ファイルオープン\n",
    "    f.write(out)              # ファイルへ書き込み"
   ]
  },
  {
   "cell_type": "markdown",
   "metadata": {},
   "source": [
    "`FileExistsError: File exists: './output/test1.txt'`となりました．`mode=x`を用いることで，既存のファイルへの上書きを防ぐことができます．"
   ]
  },
  {
   "cell_type": "markdown",
   "metadata": {},
   "source": [
    "## SAM"
   ]
  },
  {
   "cell_type": "markdown",
   "metadata": {},
   "source": [
    "SAMファイルは，`@`で始まるヘッダー行と各リードのアライメント情報を格納している．アライメントに関する情報は，11列には固有の情報が記述されている．12列目以降は，付属情報となる．\n",
    "\n",
    "|列数|Field|情報|\n",
    "|:---|:---|:---|\n",
    "|1|QNAME|リード名|\n",
    "|2|FLAG|アライメント情報|\n",
    "|3|RNAME|リファレンス名|\n",
    "|4|POS|マッピング位置|\n",
    "|5|MAPQ|マッピングスコア|\n",
    "|6|CIGAR|マッピングの状況| \n",
    "|7|RNEXT|ペアエンドリードのマッピングされたリファレンス名<br> '='の場合は，同じリファレンス名|\n",
    "|8|PNEXT|ペアエンドリードのマッピング位置|\n",
    "|9|TLEN|リード間の距離|\n",
    "|10|SEQ|リードの塩基配列|\n",
    "|11|QUAL|塩基配列のクオリティデータ|"
   ]
  },
  {
   "cell_type": "code",
   "execution_count": null,
   "metadata": {},
   "outputs": [],
   "source": [
    "#ファイルの中身を確認する\n",
    "!head -n 25 ./input/SRR453566.sam"
   ]
  },
  {
   "cell_type": "markdown",
   "metadata": {},
   "source": [
    "### ビット演算子"
   ]
  },
  {
   "cell_type": "markdown",
   "metadata": {},
   "source": [
    "2列目のFLAG情報は，リードのマッピング状況を知ることができる．各情報は下記のように定義されている．\n",
    "\n",
    "|10進数|Bit|説明（SAM定義）|Decoding SAM flags|\n",
    "|:--|:--|:--|:--|\n",
    "|1 | 0x1 |template having multiple segments in sequencing|read paired|\n",
    "|2 | 0x2 |each segment properly aligned according to the aligner | read mapped in proper pair |\n",
    "|4 | 0x4 |segment unmapped| read unmapped |read unmapped |\n",
    "|8 | 0x8 |next segment in the template unmapped |  mate unmapped|\n",
    "|16 | 0x10 |SEQ being reverse complemented| read reverse strand |\n",
    "|32 | 0x20 |SEQ of the next segment in the template <br> being reverse complemented | mate reverse strand |\n",
    "|64 | 0x40 |the first segment in the template| first in pair |\n",
    "|128 | 0x80 |the last segment in the template | second in pair |\n",
    "|256 | 0x100 |secondary alignment| not primary alignment | \n",
    "|512 | 0x200 |not passing filters, such as platform/vendor quality controls | read fails platform/vendor quality checks|\n",
    "|1024 | 0x400 |PCR or optical duplicate|  read is PCR or optical duplicate |\n",
    "|2028| 0x800 |supplementary alignment | supplementary alignment |\n",
    "\n",
    "FLAG情報に関しては，`Decoding SAM flags`サイトが分かりやすい．\n",
    "https://broadinstitute.github.io/picard/explain-flags.html\n",
    "\n",
    "\n",
    "FLAG`83`を持つリードは，`read paired (0x1)`，`read mapped in proper pair (0x2)`，`read reverse strand (0x10)`，`first in pair (0x40)`，でリードがマッピングされていることを示している．幾つかのFLAGについて，bit情報をまとめた．\n",
    "\n",
    "\n",
    "\n",
    "|10進数|Bit|FLAG=83|FLAG=163|FLAG=77|FLAG=137|\n",
    "|:--:|:--:|:--:|:--:|:--:|:--:|\n",
    "|1 | 0x1 | &#9675;|&#9675;|&#9675;|&#9675;|\n",
    "|2 | 0x2 | &#9675;|&#9675;|||\n",
    "|4 | 0x4 |||&#9675;||\n",
    "|8 | 0x8 |||&#9675;|&#9675;|\n",
    "|16 | 0x10 |&#9675;\t||||\n",
    "|32 | 0x20 ||&#9675;|||\n",
    "|64 | 0x40 |&#9675;\t||&#9675;||\n",
    "|128 | 0x80 ||&#9675;||&#9675;|\n",
    "|256 | 0x100 |||||\n",
    "|512 | 0x200 |||||\n",
    "|1024 | 0x400 |||||\n",
    "|2028| 0x800 |||||\n",
    "\n"
   ]
  },
  {
   "cell_type": "markdown",
   "metadata": {},
   "source": [
    "ビット演算子を用いて，FLAG情報を扱うことができる．\n",
    "例えば，`if FLAG & 0x4:`\n",
    "とすることで，unmappedかどうかの判定ができる．\n",
    "\n",
    "| ビット演算子 | 説明 |\n",
    "|:-----:|:-----:|\n",
    "|x &#124; y|xとyの論理和&#40;OR&#41;を取る|\n",
    "|x &amp; y|xとyの論理積&#40;AND&#41;を取る|\n",
    "|x^y|xとyの排他的論理和&#40;XOR&#41;を取る|\n"
   ]
  },
  {
   "cell_type": "markdown",
   "metadata": {},
   "source": [
    "### SAM1"
   ]
  },
  {
   "cell_type": "markdown",
   "metadata": {},
   "source": [
    "- FLAGの状況を確認する．"
   ]
  },
  {
   "cell_type": "code",
   "execution_count": null,
   "metadata": {},
   "outputs": [],
   "source": [
    "input_sam = \"./input/SRR453566.sam\"\n",
    "dic = {}\n",
    "with open(input_sam) as f:\n",
    "    for line in f:\n",
    "        line = line.rstrip()\n",
    "        if line.startswith('@'): # ヘッダー行をスキップ\n",
    "            continue\n",
    "        s = line.split('\\t')       # タブで区切る\n",
    "        FLG = s[1]                 # 2列目を格納\n",
    "        if FLG in dic:           # 辞書に格納\n",
    "            dic[FLG] += 1\n",
    "        else :\n",
    "            dic[FLG] = 1\n",
    "\n",
    "# 出力 FLAG, 総数\n",
    "for k, v in dic.items():\n",
    "    print(k+'\\t'+str(v))"
   ]
  },
  {
   "cell_type": "markdown",
   "metadata": {},
   "source": [
    "FLAG情報の集計結果が得られた．例えば，FLAG`83`のリードが197本あったことが分かる．"
   ]
  },
  {
   "cell_type": "markdown",
   "metadata": {},
   "source": [
    "### SAM2"
   ]
  },
  {
   "cell_type": "markdown",
   "metadata": {},
   "source": [
    "- 特定のFLAGを有するリード情報を抽出する．\n",
    "マッピングされなかったリードを抽出する．``read unmapped``は，``0x4``，``4``で表現される．"
   ]
  },
  {
   "cell_type": "code",
   "execution_count": null,
   "metadata": {},
   "outputs": [],
   "source": [
    "readList = []\n",
    "with open(input_sam) as f:\n",
    "    for line in f:\n",
    "        line = line.rstrip()\n",
    "        if line.startswith('@'):\n",
    "            continue\n",
    "        s = line.split('\\t')\n",
    "        FLG = int(s[1])\n",
    "        if FLG & 0x4:\n",
    "            readList.append(s[0])\n",
    "\n",
    "# 出力\n",
    "for item in readList:\n",
    "    print(item)"
   ]
  },
  {
   "cell_type": "markdown",
   "metadata": {},
   "source": [
    "ビット演算子を用いて，`read unmapped (0x4)`ビットをもつFLAG`69`，`77`，`133`，`141`のリードが抽出された．`samtools`を使うことで，同様の処理が可能となる．"
   ]
  },
  {
   "cell_type": "markdown",
   "metadata": {},
   "source": [
    "# 正規表現"
   ]
  },
  {
   "cell_type": "markdown",
   "metadata": {},
   "source": [
    "**正規表現**（Regular Expression）とは、「文字列の集合を一つの文字列で表現する方法の一つである」<sup>[1]</sup>．通常の文字列とメタ文字と呼ばれる特殊な文字を組み合わせてパターンを作り，パターンに指定された法則で並ぶ文字列検索を実現できる正規表現は，ファイルや他のデータの中から，複雑な文字列のパターンを検索するのに役立ちます．\n",
    "\n",
    "1. https://ja.wikipedia.org/wiki/正規表現"
   ]
  },
  {
   "cell_type": "markdown",
   "metadata": {},
   "source": [
    "制御配列の一つTATAボックスを例に，正規表現を試してみる．\n",
    "TATAボックスは，RNAポリメラーゼIIによる転写開始位置の上流25塩基対の位置，あるいはさらに上流に存在する共通した塩基配列で，\n",
    "5'-TATA[A/T]AA[G/A]-3'\n",
    "と定義されている<sup>[2]</sup>．\n",
    "\n",
    "2. Smale ST & Kadonaga JT. The RNA polymerase II core promoter. Annu Rev Biochem. 2003;72:449-79."
   ]
  },
  {
   "cell_type": "markdown",
   "metadata": {},
   "source": [
    "TATAボックスを有するリードをSAMファイルから検索する．\n",
    "文字列一致で探索する場合は，4通りの文字列を探索する必要がある．\n",
    "相補鎖配列も含めると，計8通りの文字列の探索が必要となる．\n",
    "\n",
    "- 5'-TATA**[A]**AA**[G]**-3'\n",
    "- 5'-TATA**[A]**AA**[A]**-3'\n",
    "- 5'-TATA**[T]**AA**[A]**-3'\n",
    "- 5'-TATA**[T]**AA**[G]**-3'"
   ]
  },
  {
   "cell_type": "markdown",
   "metadata": {},
   "source": [
    "正規表現は，標準ライブラリの`reモジュール`を使います．\n",
    "\n",
    "\n",
    "| メソッド | 説明 |\n",
    "|:-----|:-----|\n",
    "|compile|正規表現patternのオブジェクトを生成|\n",
    "|match|文字列の先頭での正規表現patternの有無を探索|\n",
    "|search|文字列内での正規表現patternの有無を探索|\n",
    "|findall|文字列内での全ての正規表現patternを探索|\n",
    "\n",
    "\n",
    "正規表現で使用する特殊文字を一部紹介します．\n",
    "\n",
    "| パターン | 説明 |\n",
    "|:-----|:-----|\n",
    "|\\d|1個の数字|\n",
    "|\\D|1個の数字以外の文字|\n",
    "|\\w|1個の英字|\n",
    "|\\W|1個の英字以外の文字|\n",
    "|\\s|1個の空白文字|\n",
    "|\\S|1個の空白文字以外の文字|\n",
    "|.|\\n以外の任意の文字|\n",
    "|^|文字列の先頭|\n",
    "|$|文字列の末尾|\n",
    "|*|直前の正規表現を0回以上，できるだけ多く繰り返したもの．<br>ab*は'a'，'ab'，または'a'に任意個数の'b'を続けたもの．|\n",
    "|+|直前の正規表現を0回以上，できるだけ多く繰り返したもの．<br>ab+は'ab'，または'a'に任意個数の'b'を続けたもの．|\n",
    "|?|直前の正規表現を0回もしくは1回．<br>ab?は'a'あるいは'ab'．|\n",
    "|[ ]|文字の集合．<br>[abc]は'a'または'b'または'c'．|"
   ]
  },
  {
   "cell_type": "markdown",
   "metadata": {},
   "source": [
    "### 正規表現1"
   ]
  },
  {
   "cell_type": "markdown",
   "metadata": {},
   "source": [
    "- TATAボックスを有する配列を探索する．reモジュールを使わずに，TATAボックスを探索する．4種類の配列それぞれの有無について調べる．"
   ]
  },
  {
   "cell_type": "code",
   "execution_count": null,
   "metadata": {},
   "outputs": [],
   "source": [
    "input_sam = \"./input/SRR453566.sam\"\n",
    "TATA1 = 'TATAAAAG'\n",
    "TATA2 = 'TATAAAAA'\n",
    "TATA3 = 'TATATAAG'\n",
    "TATA4 = 'TATATAAA'\n",
    "\n",
    "with open(input_sam) as f:\n",
    "    for line in f:\n",
    "        line = line.rstrip()\n",
    "        if line.startswith('@'): # ヘッダー行をスキップ\n",
    "            continue\n",
    "        s = line.split('\\t')       # タブで区切る\n",
    "        sequence = s[9]            # 10列目を格納\n",
    "\n",
    "        if TATA1 in sequence:\n",
    "            print(\"TATA1:\"+sequence)\n",
    "            \n",
    "        if TATA2 in sequence:\n",
    "            print(\"TATA2:\"+sequence)\n",
    "            \n",
    "        if TATA3 in sequence:\n",
    "            print(\"TATA3:\"+sequence)\n",
    "            \n",
    "        if TATA4 in sequence:\n",
    "            print(\"TATA4:\"+sequence)"
   ]
  },
  {
   "cell_type": "markdown",
   "metadata": {},
   "source": [
    "4通りのTATAボックスを用意して，それぞれについて検索を行いました．相補鎖についても探索が必要な場合は，4通りの配列を加えてそれぞれに対して同様の処理を行えばよい．"
   ]
  },
  {
   "cell_type": "markdown",
   "metadata": {},
   "source": [
    "### 正規表現2"
   ]
  },
  {
   "cell_type": "markdown",
   "metadata": {},
   "source": [
    "- TATAボックスを有する配列を探索する．reモジュールによる正規表現パターンを探索する．"
   ]
  },
  {
   "cell_type": "code",
   "execution_count": null,
   "metadata": {},
   "outputs": [],
   "source": [
    "import re\n",
    "\n",
    "TATA = re.compile('TATA[AT]AA[GA]') # patternをコンパイル\n",
    "\n",
    "with open(input_sam) as f:\n",
    "    for line in f:\n",
    "        line = line.rstrip()\n",
    "        if line.startswith('@'): # ヘッダー行をスキップ\n",
    "            continue\n",
    "        s = line.split('\\t')       # タブで区切る\n",
    "        sequence = s[9]            # 10列目を格納\n",
    "\n",
    "        m = TATA.search(sequence)  # patternを検索\n",
    "        \n",
    "        if m:\n",
    "            print(sequence)"
   ]
  },
  {
   "cell_type": "markdown",
   "metadata": {},
   "source": [
    "TATAボックス，``5'-TATA[A/T]AA[G/A]-3'``，を\n",
    "`TATA=re.compile('TATA[AT]AA[GA]')`\n",
    "としてコンパイルしている．これにより，効率的な処理が実現できる．\n",
    "コンパイルしなくても，`re.search('TATA[AT]AA[GA]', 文字列)`とすることで，同様の処理が実現できる．\n",
    "\n",
    "次に，``pattern.match(文字列)``として，正規表現パターンを検索している．この場合，計4種類のTATAボックス配列を検索している．マッチオブジェクトから，一致箇所の情報を抽出できる．"
   ]
  },
  {
   "cell_type": "markdown",
   "metadata": {},
   "source": [
    "### 正規表現3"
   ]
  },
  {
   "cell_type": "markdown",
   "metadata": {},
   "source": [
    "- TATAボックスを有する配列を探索する．reモジュールによる正規表現パターンを探索する．一致箇所を出力する．"
   ]
  },
  {
   "cell_type": "code",
   "execution_count": null,
   "metadata": {},
   "outputs": [],
   "source": [
    "import re\n",
    "\n",
    "TATA = re.compile('TATA[AT]AA[GA]') # patternをコンパイル\n",
    "\n",
    "with open(input_sam) as f:\n",
    "    for line in f:\n",
    "        line=line.rstrip()\n",
    "        if line.startswith('@'): # ヘッダー行をスキップ\n",
    "            continue\n",
    "        s = line.split('\\t')       # タブで区切る\n",
    "        sequence = s[9]            # 10列目を格納\n",
    "\n",
    "        m = TATA.search(sequence)  # patternを検索\n",
    "        \n",
    "        if m:\n",
    "            print(m.start(), m.end(), m.string[m.start():m.end()])"
   ]
  },
  {
   "cell_type": "markdown",
   "metadata": {},
   "source": [
    "マッチオブジェクトを用いることで，一致した箇所の情報や一致した文字列の抽出が可能となる．`m.start()`，`m.end()`はマッチした部分文字列の先頭と末尾のインデックスを返します．"
   ]
  },
  {
   "cell_type": "markdown",
   "metadata": {},
   "source": [
    "### 正規表現4"
   ]
  },
  {
   "cell_type": "markdown",
   "metadata": {},
   "source": [
    "- TATAボックスを有する配列を探索する．reモジュールによる正規表現パターンを探索する．一致箇所を出力する．相補鎖についても探索する．"
   ]
  },
  {
   "cell_type": "code",
   "execution_count": null,
   "metadata": {},
   "outputs": [],
   "source": [
    "import re\n",
    "\n",
    "TATA = re.compile('TATA[AT]AA[GA]') # patternをコンパイル\n",
    "TATA_rev = re.compile('[CT]TT[AT]TATA') # 相補鎖patternをコンパイル\n",
    "\n",
    "with open(input_sam) as f:\n",
    "    for line in f:\n",
    "        line = line.rstrip()\n",
    "        if line.startswith('@'): # ヘッダー行をスキップ\n",
    "            continue\n",
    "        s = line.split('\\t')       # タブで区切る\n",
    "        sequence = s[9]            # 10列目を格納\n",
    "\n",
    "        m = TATA.search(sequence)  # patternを検索\n",
    "        \n",
    "        if m:\n",
    "            print(m.start(), m.end(), m.string[m.start():m.end()])\n",
    "            \n",
    "        m = TATA_rev.search(sequence)  # 相補鎖patternを検索\n",
    "        \n",
    "        if m:\n",
    "            print(m.start(), m.end(), m.string[m.start():m.end()])"
   ]
  },
  {
   "cell_type": "code",
   "execution_count": null,
   "metadata": {},
   "outputs": [],
   "source": []
  },
  {
   "cell_type": "code",
   "execution_count": null,
   "metadata": {},
   "outputs": [],
   "source": []
  },
  {
   "cell_type": "code",
   "execution_count": null,
   "metadata": {},
   "outputs": [],
   "source": []
  },
  {
   "cell_type": "code",
   "execution_count": null,
   "metadata": {},
   "outputs": [],
   "source": []
  }
 ],
 "metadata": {
  "kernelspec": {
   "display_name": "Python 3 (ipykernel)",
   "language": "python",
   "name": "python3"
  },
  "language_info": {
   "codemirror_mode": {
    "name": "ipython",
    "version": 3
   },
   "file_extension": ".py",
   "mimetype": "text/x-python",
   "name": "python",
   "nbconvert_exporter": "python",
   "pygments_lexer": "ipython3",
   "version": "3.9.15"
  }
 },
 "nbformat": 4,
 "nbformat_minor": 2
}
