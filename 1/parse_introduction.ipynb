{
 "cells": [
  {
   "cell_type": "markdown",
   "metadata": {},
   "source": [
    "# 文字列処理"
   ]
  },
  {
   "cell_type": "markdown",
   "metadata": {},
   "source": [
    "パソコンで扱うファイルは，テキストファイルとバイナリファイルに大別される．\n",
    "テキストファイル内に記載されている文字列情報の中から，目的の情報を抽出することが有益となることが多い．また，頻繁にその対応に迫られる．\n",
    "\n",
    "生命科学においては，様々なフォーマットに様々な情報が記載されており，一つのファイルで全ての情報を得ることが容易ではない．多くの場合，複数のファイルから相互参照などを行うことで目的の情報を抽出することになる．\n",
    "\n",
    "そのためにも，Pythonなどのスクリプト言語によって，テキストファイル処理を習得することは，生物情報をより広範に整理・収集する有効な手立てとなる．\n",
    "\n",
    "**参考文献**\n",
    "1. Generic feature format version 3 (gff3). Available at: https://github.com/The-Sequence-Ontology/Specifications/blob/master/gff3.md.\n",
    "1. Pysam. Available at: https://pysam.readthedocs.io/en/latest/api.html.\n",
    "1. 柴田淳. みんなのPython 第4版. (SB クリエイティブ株式会社, 2017)\n",
    "1. 独習 Pythonバイオ情報解析."
   ]
  },
  {
   "cell_type": "markdown",
   "metadata": {},
   "source": [
    "## テキストファイル"
   ]
  },
  {
   "cell_type": "markdown",
   "metadata": {},
   "source": [
    "テキストファイル (Text File) は，文字など文字コードによって表されるデータだけが含まれるファイルのことで，ファイルフォーマットの一種と見なすこともできる．互換性が高く幅広い環境でデータを利用できる利点がある一方，単純な文字だけしか扱えないという制限がある．\n",
    "\n",
    "- gff\n",
    "- sam\n",
    "- fastq\n",
    "- fasta\n",
    "\n",
    "gffやsamのように，複数列から成るテキストファイルを扱うことが多い．列の区切り文字としては，``comma(,)``，``タブ(\\t)``，``スペース( )``が主に使用されている．"
   ]
  },
  {
   "cell_type": "markdown",
   "metadata": {},
   "source": [
    "## バイナリファイル"
   ]
  },
  {
   "cell_type": "markdown",
   "metadata": {},
   "source": [
    "テキストとはデータの内容すべてを人間が読んで理解できる (human-readable) もの，バイナリとはそうでないものを指す．\n",
    "\n",
    "- bam\n",
    "- gz"
   ]
  },
  {
   "cell_type": "markdown",
   "metadata": {},
   "source": [
    "## ファイルの読み書き"
   ]
  },
  {
   "cell_type": "markdown",
   "metadata": {},
   "source": [
    "プログラムで処理した結果を保存しておきたい場合や，外部からPythonにデータを取り込む場合にファイルを使用する．\n",
    "\n",
    "Pythonでファイルを操作するためには，組み込み型の**ファイル型**を使う．"
   ]
  },
  {
   "cell_type": "markdown",
   "metadata": {},
   "source": [
    "### ファイルを読み込む"
   ]
  },
  {
   "cell_type": "markdown",
   "metadata": {},
   "source": [
    "ファイルの読み込みについていくつかスクリプトを実行する．\n",
    "\n",
    "```python\n",
    "with open (filename, 'r') as f: ## 'r'は省略化\n",
    "```"
   ]
  },
  {
   "cell_type": "markdown",
   "metadata": {},
   "source": [
    "### ファイルに書き込む"
   ]
  },
  {
   "cell_type": "markdown",
   "metadata": {},
   "source": [
    "ファイルの書き込みは，読み込み同様`open`を使用する．ただし，`mode='w'`とする．\n",
    "\n",
    "```python\n",
    "with open (filename, 'w') as f:\n",
    "```"
   ]
  },
  {
   "cell_type": "markdown",
   "metadata": {},
   "source": [
    "### 改行コード"
   ]
  },
  {
   "cell_type": "markdown",
   "metadata": {},
   "source": [
    "|改行コード|見え方|System|\n",
    "|---|---|---|\n",
    "| CR | \\r | mac|\n",
    "| LF |\\n|unix|\n",
    "| CR+LF |\\r\\n|win|"
   ]
  },
  {
   "cell_type": "markdown",
   "metadata": {},
   "source": [
    "### 読み込み1"
   ]
  },
  {
   "cell_type": "markdown",
   "metadata": {},
   "source": [
    "s288c_n20.gff を読み込んで出力する.一行目だけ出力する."
   ]
  },
  {
   "cell_type": "code",
   "execution_count": null,
   "metadata": {},
   "outputs": [],
   "source": [
    "input=\"./input/s288c_n20.gff\"\n",
    "with open(input) as f: #ファイルオープン\n",
    "    line=f.readline()       # 一行読み込み\n",
    "    print(line)                # 出力"
   ]
  },
  {
   "cell_type": "markdown",
   "metadata": {},
   "source": [
    "### 書き込み1"
   ]
  },
  {
   "cell_type": "markdown",
   "metadata": {},
   "source": [
    "test1.txtに出力する．"
   ]
  },
  {
   "cell_type": "code",
   "execution_count": null,
   "metadata": {},
   "outputs": [],
   "source": [
    "output=\"./output/test1.txt\"   # ファイル名\n",
    "out=\"Hello world!\\n\"             # 出力\n",
    "with open(output, 'w') as f:  # ファイルオープン\n",
    "    f.write(out)                      # ファイルへ書き込み"
   ]
  },
  {
   "cell_type": "markdown",
   "metadata": {},
   "source": [
    "### 読み込み2"
   ]
  },
  {
   "cell_type": "markdown",
   "metadata": {},
   "source": [
    "s288c_n20.gffを読み込んで出力する．"
   ]
  },
  {
   "cell_type": "code",
   "execution_count": null,
   "metadata": {},
   "outputs": [],
   "source": [
    "with open(input) as f:\n",
    "    for line in f:             # 一行ずつ読み込み\n",
    "        print(line)             # 出力"
   ]
  },
  {
   "cell_type": "markdown",
   "metadata": {},
   "source": [
    "### 読み込み3 "
   ]
  },
  {
   "cell_type": "markdown",
   "metadata": {},
   "source": [
    "s288c_n20.gffを読み込んで出力する．改行コード削除を実行する．"
   ]
  },
  {
   "cell_type": "code",
   "execution_count": null,
   "metadata": {},
   "outputs": [],
   "source": [
    "with open(input) as f:\n",
    "    for line in f:\n",
    "        line=line.rstrip()  # 改行コードの削除\n",
    "        print(line)"
   ]
  },
  {
   "cell_type": "markdown",
   "metadata": {},
   "source": [
    "### 読み込み4"
   ]
  },
  {
   "cell_type": "markdown",
   "metadata": {},
   "source": [
    "s288c_n20.gffを読み込んで出力する．改行コード削除を実行する．``#``で始まる行だけを出力する．"
   ]
  },
  {
   "cell_type": "code",
   "execution_count": null,
   "metadata": {},
   "outputs": [],
   "source": [
    "with open(input) as f:\n",
    "    for line in f:\n",
    "        line=line.rstrip()\n",
    "        \n",
    "        if line.startswith(\"#\"):  # ’#’で始まるかどうか\n",
    "            print(line)"
   ]
  },
  {
   "cell_type": "markdown",
   "metadata": {},
   "source": [
    "### 読み込み5"
   ]
  },
  {
   "cell_type": "markdown",
   "metadata": {},
   "source": [
    "s288c_n20.gffを読み込んで出力する．改行コード削除を実行する．``#``で始まる行以外を出力する．"
   ]
  },
  {
   "cell_type": "code",
   "execution_count": null,
   "metadata": {},
   "outputs": [],
   "source": [
    "with open(input) as f:\n",
    "    for line in f:\n",
    "        line=line.rstrip()\n",
    "        \n",
    "        if line.startswith(\"#\"): # ’#’で始まるかどうか\n",
    "            continue\n",
    "        print(line)"
   ]
  },
  {
   "cell_type": "markdown",
   "metadata": {},
   "source": [
    "### 読み込み6"
   ]
  },
  {
   "cell_type": "markdown",
   "metadata": {},
   "source": [
    "s288c_n20.gffを読み込んで出力する．改行コード削除を実行する．``#``で始まる行以外を出力する．9列目のデータのみを出力する．"
   ]
  },
  {
   "cell_type": "code",
   "execution_count": null,
   "metadata": {},
   "outputs": [],
   "source": [
    "with open(input) as f:\n",
    "    for line in f:\n",
    "        line=line.rstrip()\n",
    "\n",
    "        if line.startswith(\"#\"):\n",
    "            continue\n",
    "        s=line.split(\"\\t\")  # タブで区切る\n",
    "        print(s[8])          # 9列目を出力"
   ]
  },
  {
   "cell_type": "markdown",
   "metadata": {},
   "source": [
    "### 読み込み7"
   ]
  },
  {
   "cell_type": "markdown",
   "metadata": {},
   "source": [
    "s288c_n20.gffを読み込んで出力する．改行コード削除を実行する．``#``で始まる行以外を出力する．9列目のデータのみを出力する．`;`で区切る．"
   ]
  },
  {
   "cell_type": "code",
   "execution_count": null,
   "metadata": {},
   "outputs": [],
   "source": [
    "with open(input) as f:\n",
    "    for line in f:\n",
    "        line=line.rstrip()\n",
    "        if line.startswith(\"#\"):\n",
    "            continue\n",
    "        \n",
    "        s=line.split(\"\\t\")\n",
    "        items=s[8].split(\";\") # 9列目を”;”で区切る\n",
    "        for item in items:   # リストを一つずつ\n",
    "            print(item)          # 出力"
   ]
  },
  {
   "cell_type": "markdown",
   "metadata": {},
   "source": [
    "### 読み込み8"
   ]
  },
  {
   "cell_type": "markdown",
   "metadata": {},
   "source": [
    "s288c_n20.gffを読み込んで出力する．改行コード削除を実行する．``#``で始まる行以外を出力する．9列目のデータのみを出力する．`;`で区切る．`product`を抽出する．"
   ]
  },
  {
   "cell_type": "code",
   "execution_count": null,
   "metadata": {},
   "outputs": [],
   "source": [
    "with open(input) as f:\n",
    "    for line in f:\n",
    "        line=line.rstrip()\n",
    " \n",
    "        if line.startswith(\"#\"):\n",
    "            continue\n",
    "        s=line.split(\"\\t\")\n",
    "        items=s[8].split(\";\")\n",
    "        for item in items:\n",
    "            if item.startswith(\"product=\"):\n",
    "                print(item)"
   ]
  },
  {
   "cell_type": "markdown",
   "metadata": {},
   "source": [
    "## SAM"
   ]
  },
  {
   "cell_type": "markdown",
   "metadata": {},
   "source": [
    "２列目のFLAG情報は，リードのマッピング状況を知ることができる．\n",
    "``pysam``には，様々な関数が用意されている．"
   ]
  },
  {
   "cell_type": "markdown",
   "metadata": {},
   "source": [
    "### SAM1"
   ]
  },
  {
   "cell_type": "code",
   "execution_count": null,
   "metadata": {},
   "outputs": [],
   "source": [
    "input=\"./input/SRR453566.sam.aa\"\n",
    "dict={}\n",
    "with open(input) as f:\n",
    "    for line in f:\n",
    "        line=line.rstrip()\n",
    "        if line.startswith(\"@\"): # ヘッダー行をスキップ\n",
    "            continue\n",
    "        s=line.split(\"\\t\")           # タブで区切る\n",
    "        FLG=s[1]                    # ２列目を格納\n",
    "        if FLG in dict:             # 辞書に格納\n",
    "            dict[FLG]+=1\n",
    "        else :\n",
    "            dict[FLG]=1\n",
    "\n",
    "# 出力 flag, 総数\n",
    "for k, v in dict.items():\n",
    "    print(k+\"\\t\"+str(v))"
   ]
  },
  {
   "cell_type": "markdown",
   "metadata": {},
   "source": [
    "### SAM2"
   ]
  },
  {
   "cell_type": "markdown",
   "metadata": {},
   "source": [
    "特定のFLAGを有するリード情報を抽出する．\n",
    "マッピングされなかったリードを抽出する．``read unmapped``は，``0x4``，``4``で表現される．"
   ]
  },
  {
   "cell_type": "markdown",
   "metadata": {},
   "source": [
    "### ビット演算子"
   ]
  },
  {
   "cell_type": "markdown",
   "metadata": {},
   "source": [
    "| ビット演算子 | 説明 |\n",
    "|:-----:|:-----:|\n",
    "|x &#124; y|xとyの論理和&#40;OR&#41;を取る|\n",
    "|x &amp; y|xとyの論理積&#40;AND&#41;を取る|\n",
    "|x^y|xとyの排他的論理和&#40;XOR&#41;を取る|"
   ]
  },
  {
   "cell_type": "code",
   "execution_count": null,
   "metadata": {},
   "outputs": [],
   "source": [
    "readList=[]\n",
    "with open(input) as f:\n",
    "    for line in f:\n",
    "        line=line.rstrip()\n",
    "        if line.startswith(\"@\"):\n",
    "            continue\n",
    "        s=line.split(\"\\t\")\n",
    "        FLG=int(s[1])\n",
    "        if FLG & 4:\n",
    "            readList.append(s[0])\n",
    "\n",
    "# 出力\n",
    "for item in readList:\n",
    "    print(item)"
   ]
  },
  {
   "cell_type": "code",
   "execution_count": null,
   "metadata": {},
   "outputs": [],
   "source": []
  }
 ],
 "metadata": {
  "kernelspec": {
   "display_name": "Python 3 (ipykernel)",
   "language": "python",
   "name": "python3"
  },
  "language_info": {
   "codemirror_mode": {
    "name": "ipython",
    "version": 3
   },
   "file_extension": ".py",
   "mimetype": "text/x-python",
   "name": "python",
   "nbconvert_exporter": "python",
   "pygments_lexer": "ipython3",
   "version": "3.9.15"
  }
 },
 "nbformat": 4,
 "nbformat_minor": 2
}
