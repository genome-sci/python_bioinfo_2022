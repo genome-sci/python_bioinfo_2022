{
 "cells": [
  {
   "cell_type": "markdown",
   "metadata": {},
   "source": [
    "##  はじめに"
   ]
  },
  {
   "cell_type": "markdown",
   "metadata": {},
   "source": [
    "### 講義内容\n",
    "- クラスを利用したプログラミング  \n",
    "- 塩基/アミノ酸配列データの扱い方 (Biopythonの利用)  \n",
    "\n",
    "### 対象\n",
    "- 塩基/アミノ酸配列データやアノテーションデータを取り扱う人\n",
    "- 初級レベル (Pythonの基本プログラミングは理解できている人)\n",
    "\n",
    "サンプルデータとして、https://www.ncbi.nlm.nih.gov/assembly/GCF_000146045.2 から取得した出芽酵母 Saccharomyces cerevisiae S288C のゲノム塩基配列（FASTA形式）と遺伝子アノテーションを含んだファイル（GenBank形式およびGFF形式）を用いる。"
   ]
  },
  {
   "cell_type": "markdown",
   "metadata": {},
   "source": [
    "Biopythonを使用するので、\n",
    "```\n",
    "pip install biopython\n",
    "```\n",
    "または、condaを使用している場合には\n",
    "```\n",
    "conda install biopython\n",
    "```\n",
    "でインストールしておく必要がある。"
   ]
  },
  {
   "cell_type": "markdown",
   "metadata": {},
   "source": [
    "# クラスの利用"
   ]
  },
  {
   "cell_type": "markdown",
   "metadata": {},
   "source": [
    "## クラスとオブジェクト"
   ]
  },
  {
   "cell_type": "markdown",
   "metadata": {},
   "source": [
    "- __オブジェクト__  \n",
    "  Pythonプログラムの中で扱われる文字列や数値、あるいはリストや辞書といったデータ  \n",
    "  関数もオブジェクトの一つとして扱われる\n",
    "\n",
    "Pythonプログラムの中で扱われるさまざまな「モノ」に対しての総称が「オブジェクト」といえる。"
   ]
  },
  {
   "cell_type": "markdown",
   "metadata": {},
   "source": [
    "オブジェクトにはデータの種類に応じて「型」があり、type関数を使用することでオブジェクトがどのような「型」に属するか確認できる。"
   ]
  },
  {
   "cell_type": "code",
   "execution_count": null,
   "metadata": {
    "scrolled": false
   },
   "outputs": [],
   "source": [
    "type(10)"
   ]
  },
  {
   "cell_type": "code",
   "execution_count": null,
   "metadata": {
    "scrolled": true
   },
   "outputs": [],
   "source": [
    "my_str = \"Hello world\"\n",
    "type(my_str)"
   ]
  },
  {
   "cell_type": "code",
   "execution_count": null,
   "metadata": {},
   "outputs": [],
   "source": [
    "type(print)"
   ]
  },
  {
   "cell_type": "markdown",
   "metadata": {},
   "source": [
    "- __クラス__  \n",
    "  オブジェクトの「型」(= オブジェクトの設計図)\n",
    "\n",
    "\n",
    "オブジェクトの「型」のことを __クラス__ という。  \n",
    "例えば、整数データはintクラスに属するオブジェクト、文字列データはstrクラスに属するオブジェクト、print関数は builtin_function_or_method クラスに属するオブジェクトといえる。"
   ]
  },
  {
   "cell_type": "markdown",
   "metadata": {},
   "source": [
    "オブジェクトはデータだけではなく、そのデータに対する様々な処理機能（ __メソッド__ ）を合わせ持っている。\n",
    "各オブジェクトがどのようなメソッドを持っているかはdir関数を使用で確認できる。"
   ]
  },
  {
   "cell_type": "code",
   "execution_count": null,
   "metadata": {},
   "outputs": [],
   "source": [
    "print(dir(my_str))"
   ]
  },
  {
   "cell_type": "markdown",
   "metadata": {},
   "source": [
    "strオブジェクトには大文字に変換するためのupperや分割を行うためのsplitといった文字列に対する操作を行うためのメソッドが含まれる。これらを使用するには、変数名の後にピリオドに続けてメソッド名を指定する"
   ]
  },
  {
   "cell_type": "code",
   "execution_count": null,
   "metadata": {},
   "outputs": [],
   "source": [
    "my_str.upper()"
   ]
  },
  {
   "cell_type": "code",
   "execution_count": null,
   "metadata": {},
   "outputs": [],
   "source": [
    "my_str.split(\" \")"
   ]
  },
  {
   "cell_type": "markdown",
   "metadata": {},
   "source": [
    "メソッドを呼び出すにはメソッド名の後の括弧に引数を指定する。  \n",
    "上記の例で、upperは特に引数を必要としないため括弧内は空欄になっているのに対し、splitの場合には分割に用いる文字を引数に指定している。  \n",
    "(何も引数を指定せずにsplitを使用することもでき、その場合にはスペースやタブなど空白とみなせる文字が分割の対象となる。)"
   ]
  },
  {
   "cell_type": "markdown",
   "metadata": {},
   "source": [
    "## 独自のクラスを設計する"
   ]
  },
  {
   "cell_type": "markdown",
   "metadata": {},
   "source": [
    "より複雑な機能やデータをもったオブジェクトを扱うために、拡張モジュールをインポートして定義済みの型（たとえばdatetimeオブジェクトなど）を利用したり、あるいは自分でオブジェクトの設計図（＝型）である「クラス」を定義したりすることができる。"
   ]
  },
  {
   "cell_type": "markdown",
   "metadata": {},
   "source": [
    "Biopythonをインポートすれば塩基配列やアミノ酸配列データを扱うためのSeqオブジェクトが利用可能できるが、ここでは自分でクラスを定義する例としてFASTA形式で記述された配列データを格納するためのクラスを設計してみる。"
   ]
  },
  {
   "cell_type": "markdown",
   "metadata": {},
   "source": [
    "下記は１件のFASTA形式の配列データの例を示す。\n",
    "```\n",
    ">gene01 nucleotide sequence of tRNA-Ser\n",
    "TGGAGTGTTGTCCGAGCGGCTGAAGGAGCATGATTGGAAATCATGTATACGGGTAAATACCTGTATCGAGGGTTCAAATCCCTCACACTCCGT\n",
    "```\n",
    "\">\"で始まる行はタイトル行で、一般に最初の空白までが配列IDやアクセッション番号を示し、それ以降の文字列は遺伝子の機能名や任意の説明書きが含まれる。  \n",
    "2行目が配列データを示す。この例では改行が含まれていないが、60〜100文字単位で改行が含まれることもある。"
   ]
  },
  {
   "cell_type": "markdown",
   "metadata": {},
   "source": [
    "FASTAファイルの例 (multi FASTAファイル)"
   ]
  },
  {
   "cell_type": "code",
   "execution_count": null,
   "metadata": {
    "scrolled": true
   },
   "outputs": [],
   "source": [
    "! head data/s288c.protein.faa"
   ]
  },
  {
   "cell_type": "markdown",
   "metadata": {},
   "source": [
    "これらの情報を格納するために、  \n",
    "- 配列ID (id)  \n",
    "- 配列に対しての説明 (description)  \n",
    "- 配列自体のデータ (seq）  \n",
    "\n",
    "といった情報を含んだクラスを設計する。また、この配列データに対しての操作としてGC含量（塩基配列中のGおよびCの割合）を得るためのメソッドを例として定義する。"
   ]
  },
  {
   "cell_type": "code",
   "execution_count": null,
   "metadata": {},
   "outputs": [],
   "source": [
    "class Fasta:\n",
    "    def __init__(self, id, description, seq):\n",
    "        self.id = id\n",
    "        self.description = description\n",
    "        self.seq = seq\n",
    "            \n",
    "    def get_gc_content(self):\n",
    "        g_count = self.seq.count(\"G\")\n",
    "        c_count = self.seq.count(\"C\")\n",
    "        gc_content = ( g_count + c_count ) / len(self.seq)\n",
    "        return gc_content"
   ]
  },
  {
   "cell_type": "markdown",
   "metadata": {},
   "source": [
    "最初に定義したメソッド`__init__`は、オブジェクトの設計図であるクラスに実際のデータを格納してオブジェクトを生成する際に実行されるコンストラクタと呼ばれる特殊メソッド。    \n",
    "メソッドの第一引数は自身のオブジェクトを指すもので、Pythonでは慣例的に \"self\" が使われる。残りの３つはオブジェクト生成時に与える引数で、与えられた情報はオブジェクトの内部的な変数である`self.id`、`self.description`、`self.seq`にそれぞれ格納されるように定義している。\n"
   ]
  },
  {
   "cell_type": "markdown",
   "metadata": {},
   "source": [
    "実際にデータを与えて配列データを格納したオブジェクトを作成してみる。引数\"self\"は内部的に使用されるだけなので、オブジェクト生成時には残りの3つの引数を与える。"
   ]
  },
  {
   "cell_type": "code",
   "execution_count": null,
   "metadata": {},
   "outputs": [],
   "source": [
    "fasta = Fasta(\"gene01\", \"nucleotide sequence of tRNA-Ser\", \n",
    "              \"TGGAGTGTTGTCCGAGCGGCTGAAGGAGCATGATTGGAAATCATGTATACGGGTAAATACCTGTATCGAGGGTTCAAATCCCTCACACTCCGT\")"
   ]
  },
  {
   "cell_type": "markdown",
   "metadata": {},
   "source": [
    "これで先ほどの１件のFASTA形式のデータを持ったオブジェクトを生成し、fastaという変数に格納できたことになる。  \n",
    "設計図であるクラスに対し、このように実際のデータが格納されてできたオブジェクトの実体を __インスタンス__ と呼ぶ。  \n",
    "Pythonでは慣例的にクラスの名称には大文字で始まる名前を用い、インスタンスに対しては小文字を使用することが推奨されている。"
   ]
  },
  {
   "cell_type": "markdown",
   "metadata": {},
   "source": [
    "![fig2](img/fig1_class.png)"
   ]
  },
  {
   "cell_type": "markdown",
   "metadata": {},
   "source": [
    "内部的な変数（インスタンス変数）にアクセスするには次のようにする。"
   ]
  },
  {
   "cell_type": "code",
   "execution_count": null,
   "metadata": {},
   "outputs": [],
   "source": [
    "fasta.description"
   ]
  },
  {
   "cell_type": "markdown",
   "metadata": {},
   "source": [
    "クラスの定義時には\"self\"という変数を使用したが、これは定義時に用いた仮のものなので実際のデータにアクセスするにはインスタンスを示す変数の後ろにピリオドをつけて指定する。通常の変数と同じように新たな値を代入することも可能。"
   ]
  },
  {
   "cell_type": "markdown",
   "metadata": {},
   "source": [
    "配列データ自体は通常の文字列と同じ扱いなので、次のように部分配列を取り出すこともできる。"
   ]
  },
  {
   "cell_type": "code",
   "execution_count": null,
   "metadata": {},
   "outputs": [],
   "source": [
    "fasta.seq[:10]"
   ]
  },
  {
   "cell_type": "markdown",
   "metadata": {},
   "source": [
    "生成されたfastaがどのようなクラスに属するか確認をしてみる。"
   ]
  },
  {
   "cell_type": "code",
   "execution_count": null,
   "metadata": {},
   "outputs": [],
   "source": [
    "type(fasta)"
   ]
  },
  {
   "cell_type": "markdown",
   "metadata": {},
   "source": [
    "このように独自に定義されたクラスFastaに属するオブジェクトであることがわかる。"
   ]
  },
  {
   "cell_type": "markdown",
   "metadata": {},
   "source": [
    "最後にこの配列のGC含量を求めてみる。インスタンス変数にアクセスしたときと同様にピリオドに続けてメソッド名を指定する。"
   ]
  },
  {
   "cell_type": "code",
   "execution_count": null,
   "metadata": {},
   "outputs": [],
   "source": [
    "fasta.get_gc_content()"
   ]
  },
  {
   "cell_type": "markdown",
   "metadata": {},
   "source": [
    "get_gc_contentメソッドに定義されている引数は\"self\"だけで、これは外部から指定しなくても自動的に自分自身を指す変数として扱われるため特に引数を与える必要はない。そのため、この例では括弧内は空欄となっている。\n"
   ]
  },
  {
   "cell_type": "markdown",
   "metadata": {},
   "source": [
    "## Dataclassの利用"
   ]
  },
  {
   "cell_type": "markdown",
   "metadata": {},
   "source": [
    "Python3.7以降では、データを格納するためのクラス Dataclass が利用可能になっている。これを用いるとクラス定義をよりシンプルに書ける。\n",
    "Dataclass を利用するには、モジュールをインポートする必要がある。"
   ]
  },
  {
   "cell_type": "code",
   "execution_count": null,
   "metadata": {},
   "outputs": [],
   "source": [
    "from dataclasses import dataclass"
   ]
  },
  {
   "cell_type": "markdown",
   "metadata": {},
   "source": [
    "Dataclass を使うと先のFASTAデータを扱うためのクラスは以下のように書ける。"
   ]
  },
  {
   "cell_type": "code",
   "execution_count": null,
   "metadata": {},
   "outputs": [],
   "source": [
    "@dataclass\n",
    "class Fasta:\n",
    "    id: str\n",
    "    description: str\n",
    "    seq: str\n",
    "    \n",
    "    def get_gc_content(self):\n",
    "        g_count = self.seq.count(\"G\")\n",
    "        c_count = self.seq.count(\"C\")\n",
    "        gc_content = ( g_count + c_count ) / len(self.seq)\n",
    "        return gc_content"
   ]
  },
  {
   "cell_type": "markdown",
   "metadata": {},
   "source": [
    "Dataclassを使うとコンストラクタ (\\_\\_init\\_\\_メソッド) の記載は不要で、変数名とその型名を列挙するだけでクラスを定義できる。"
   ]
  },
  {
   "cell_type": "markdown",
   "metadata": {},
   "source": [
    "使い方は通常のクラスと変わらない。"
   ]
  },
  {
   "cell_type": "code",
   "execution_count": null,
   "metadata": {},
   "outputs": [],
   "source": [
    "fasta2 = Fasta(\"gene01\", \"nucleotide sequence of tRNA-Ser\", \n",
    "              \"TGGAGTGTTGTCCGAGCGGCTGAAGGAGCATGATTGGAAATCATGTATACGGGTAAATACCTGTATCGAGGGTTCAAATCCCTCACACTCCGT\")"
   ]
  },
  {
   "cell_type": "markdown",
   "metadata": {},
   "source": [
    "print関数を使うとオブジェクトの内容が分かるように表示される。"
   ]
  },
  {
   "cell_type": "code",
   "execution_count": null,
   "metadata": {
    "scrolled": true
   },
   "outputs": [],
   "source": [
    "print(fasta2)"
   ]
  },
  {
   "cell_type": "markdown",
   "metadata": {},
   "source": [
    "通常のクラスから生成されたオブジェクトの場合は以下のようになる。"
   ]
  },
  {
   "cell_type": "code",
   "execution_count": null,
   "metadata": {},
   "outputs": [],
   "source": [
    "print(fasta)"
   ]
  },
  {
   "cell_type": "markdown",
   "metadata": {},
   "source": [
    "## 実践的なクラスの利用"
   ]
  },
  {
   "cell_type": "markdown",
   "metadata": {},
   "source": [
    "先に定義した独自クラスFastaを利用した実践的なプログラム例として、複数のFASTA形式のデータを含んだファイル（multi FASTA）からデータを１件ずつ取り出しそれぞれの配列の配列IDや長さ、GC含量等を出力するプログラムを作成する。"
   ]
  },
  {
   "cell_type": "markdown",
   "metadata": {},
   "source": [
    "はじめにmulti FASTAファイルから１件ずつFastaオブジェクトとしてデータを取り出す関数を作成する。"
   ]
  },
  {
   "cell_type": "markdown",
   "metadata": {},
   "source": [
    "１行ずつファイルを読み込んでいき、`>` で始まるタイトル行が現れたらIDとdescription情報を取得、それ以外の行では配列情報を取得して編すに格納していく。  \n",
    "１件のデータを読み終わった時点でそれまで格納されていた情報をFastaオブジェクトにして返す。"
   ]
  },
  {
   "cell_type": "markdown",
   "metadata": {},
   "source": [
    "![fig1](img/fig2_fasta.png)"
   ]
  },
  {
   "cell_type": "markdown",
   "metadata": {},
   "source": [
    "注意点:  \n",
    "ファイルの先頭を読み込んだ時点では配列データが得られていないので処理を分ける必要がある。  \n",
    "ファイルを最後の行まで読み込んだ後で、一番最後の配列データを取り出す処理を行う。\n",
    "\n"
   ]
  },
  {
   "cell_type": "code",
   "execution_count": null,
   "metadata": {},
   "outputs": [],
   "source": [
    "def read_fasta(file_name):\n",
    "    with open(file_name) as fh:\n",
    "        line = next(fh)  # next関数を使い1行目（タイトル行）だけ読み込む。\n",
    "        seq_id, description = line.strip(\">\\n\").split(\" \", 1)  # タイトル行を分割し始めの空白までを配列ID、空白以降をdescriptionとする。空白が含まれていない場合エラーになるので注意。\n",
    "        seq = \"\"  # 配列情報を格納する変数を初期化\n",
    "        for line in fh:  # 2行目以降の読み込み\n",
    "            if line.startswith(\">\"):  # \">\"で始まる行が現れたらその時点までの配列データを返す\n",
    "                yield Fasta(seq_id, description, seq)\n",
    "                seq_id, description = line.strip().strip(\">\").split(\" \", 1)  # 新たなタイトル情報を格納する\n",
    "                seq = \"\"\n",
    "            else:\n",
    "                seq += line.strip(\"\\n\").upper()  # \">\"で始まらない場合には、配列データを読み込んで追加していく。upperを加えたのは大文字に変換するため。\n",
    "        yield Fasta(seq_id, description, seq)  # ループ終了時に最後の配列データを返す\n",
    "                "
   ]
  },
  {
   "cell_type": "markdown",
   "metadata": {},
   "source": [
    "__\\[参考\\]__  \n",
    "ここで定義した関数 read_fasta は通常の関数とは異なり __ジェネレーター関数__ と呼ばれる。  \n",
    "通常の関数では return 文が現れた時点で処理を終了して値を返すのに対し、ジェネレーター関数では yield 文を用いて値を返すという違いがある。値を返した時点でジェネレーターは一旦処理を停止してその時点での情報を内部に保ち、再度呼び出しがあると再びyield文が現れる時点まで処理を行って新たな値を返す。  \n",
    "ジェネレータはリストと同じように for ループと組み合わせることで１件ずつデータを取り出すことができるが、リストがすべてのデータをメモリ上に保持しているのに対して、ジェネレーターは１件ずつのデータしか保持していない点で違いがある。次世代シークエンサーデータのような巨大なデータを扱う際に、１件ずつデータを取り出して処理を行うのに役立つ。"
   ]
  },
  {
   "cell_type": "markdown",
   "metadata": {},
   "source": [
    "\n",
    "以下が実際の使用例で、配列１件ずつを取り出して配列ID、配列の説明、長さ、GC含量をタブ区切りの文字列として出力している。\n"
   ]
  },
  {
   "cell_type": "code",
   "execution_count": null,
   "metadata": {},
   "outputs": [],
   "source": [
    "for fasta in read_fasta(\"data/s288c.fna\"):\n",
    "    print(f\"{fasta.id}\\t{fasta.description}\\tLength={len(fasta.seq):,d}\\tG+C%={fasta.get_gc_content():.1%}\")"
   ]
  },
  {
   "cell_type": "markdown",
   "metadata": {},
   "source": [
    "__\\[参考]__  \n",
    "`f`を先頭につけた文字列は\"f文字列\"と呼ばれるPython3.6から導入された文字列を整形するのに便利な形式で、{ }で括った中に変数名を記載することで変数の中身を文字列中に埋め込むことができる。  \n",
    "また、変数名の後に`:`で区切って各種書式を指定することも可能で、上記の例では`:,d`を付けて3桁ごとにカンマで数値の桁数を区切ったり、`:.1%`と付けることで小数値を百分率表記にして小数点以下の桁数を指定したりすることができる。\n",
    "\n"
   ]
  },
  {
   "cell_type": "markdown",
   "metadata": {},
   "source": [
    "## ここまでのまとめ"
   ]
  },
  {
   "cell_type": "markdown",
   "metadata": {},
   "source": [
    "- 独自のクラスを定義しオブジェクトにデータを格納することで、データやそれに付随した操作をひとまとめの変数として扱うことができる。  \n",
    "- クラスに様々なメソッドを加えることでより多様な処理を行えるように拡張できる (塩基配列のデータであれば相補鎖配列に変換するメソッドや、アミノ酸配列への翻訳を行うメソッドなど)。  \n",
    "- クラスの利用例として、FASTA形式のデータを格納するためのクラス定義とmulti FASTA形式のファイルから１件ずつデータを取り出す例を紹介した。  \n",
    "    データを格納するための独自クラスを定義してファイルを読み込むための関数と組み合わせて処理を行う方法は、様々な場面に応用できる。  \n"
   ]
  },
  {
   "cell_type": "markdown",
   "metadata": {},
   "source": [
    "ここまではクラスの使い方について学ぶためにFasta形式のデータを扱うクラスを定義したが、以下に紹介するBiopythonを用いれば自分でクラス定義を行うことなく配列データを簡単に扱うことができる。"
   ]
  },
  {
   "cell_type": "markdown",
   "metadata": {},
   "source": [
    "## より高度なクラスの利用 (補足)"
   ]
  },
  {
   "cell_type": "markdown",
   "metadata": {},
   "source": [
    "### 特殊メソッドやスタティックメソッド"
   ]
  },
  {
   "cell_type": "markdown",
   "metadata": {},
   "source": [
    "- 特殊メソッド  \n",
    "  `__`で囲まれたメソッドは特殊メソッドで、通常は直接呼び出されて使うことはなく、他の関数にオブジェクトが引数として渡された場合の挙動を定義する場合などに使われる。  \n",
    "  例\n",
    "  - `__len__`  \n",
    "    len関数に引数として渡された場合の処理を定義できる。下の例では配列の長さを返すようにしている。\n",
    "  - `__repr__`  \n",
    "    オブジェクトに格納された情報の概要をprint関数やrepr関数で表示させるときの形式を定義するためのもので、おもにデバッグ用途に用いる。\n",
    "    Dataclassを使った場合には自動で定義されているが、自分で定義を上書きすることもできる。デフォルトだと配列情報が全て表示されてしまい画面から溢れてしまうので、ここではID、description、長さのみを表示させるように定義し直している。\n",
    "\n",
    "  \n",
    "- スタティックメソッド (staticmethod)  \n",
    "  そのクラスには関係しているが、インスタンスを作ることなく使用できるメソッドで (クラスに属さない) 通常の関数と同じように使える。下記で定義した `read_fasta` はFASTAファイルを読み込んでFastaオブジェクトを返すジェネレータ関数である。スタティックメソッドはインスタンス変数やメソッドにアクセスすることはできず、そのため引数にも \"self\" は不要である。"
   ]
  },
  {
   "cell_type": "code",
   "execution_count": null,
   "metadata": {},
   "outputs": [],
   "source": [
    "@dataclass\n",
    "class Fasta:\n",
    "    id: str\n",
    "    description: str\n",
    "    seq: str\n",
    "    \n",
    "    def get_gc_content(self):\n",
    "        g_count = self.seq.count(\"G\")\n",
    "        c_count = self.seq.count(\"C\")\n",
    "        gc_content = ( g_count + c_count ) / len(self.seq)\n",
    "        return gc_content\n",
    "    \n",
    "    def __len__(self):\n",
    "        \"\"\"len関数に引数として与えた場合に配列の長さを返すように定義\"\"\"\n",
    "        return len(self.seq)\n",
    "    \n",
    "    def __repr__(self):\n",
    "        \"\"\"print関数に引数として与えた場合に表示される文字列を定義\"\"\"\n",
    "        return f\"<Fasta: {self.id}, {self.description}, Length={len(self)}>\"\n",
    "    \n",
    "    @staticmethod\n",
    "    def read_fasta(file_name):\n",
    "        def _parse_title(title):\n",
    "            title = title.strip(\">\\n \")\n",
    "            if \" \" in title:\n",
    "                seq_id, description = title.split(\" \", 1)\n",
    "            else:\n",
    "                seq_id, description = title, \"\"\n",
    "            return seq_id, description\n",
    "        \n",
    "        with open(file_name) as fh:\n",
    "            line = next(fh)\n",
    "            seq_id, description = _parse_title(line)\n",
    "            seq = \"\"\n",
    "            for line in fh:\n",
    "                if line.startswith(\">\"):\n",
    "                    yield Fasta(seq_id, description, seq)\n",
    "                    seq_id, description = _parse_title(line)\n",
    "                    seq = \"\"\n",
    "                else:\n",
    "                    seq += line.strip(\"\\n\").upper()\n",
    "            yield Fasta(seq_id, description, seq)"
   ]
  },
  {
   "cell_type": "code",
   "execution_count": null,
   "metadata": {},
   "outputs": [],
   "source": [
    "# FASTAファイルを読み込み、各配列をFastaオブジェクトを要素とするリストに格納する)\n",
    "fasta_list = list(Fasta.read_fasta(\"data/s288c.fna\"))"
   ]
  },
  {
   "cell_type": "code",
   "execution_count": null,
   "metadata": {},
   "outputs": [],
   "source": [
    "# 配列を長いものから順に並び替える\n",
    "# 並び替えのキーとしてlen関数を与えているので、__len__メソッドで返される値によってソートされる\n",
    "fasta_list = sorted(fasta_list, key=len, reverse=True)"
   ]
  },
  {
   "cell_type": "code",
   "execution_count": null,
   "metadata": {
    "scrolled": true
   },
   "outputs": [],
   "source": [
    "# 配列情報の表示\n",
    "# pabsrint時には __repr__で定義した情報が表示される。\n",
    "for fasta in fasta_list:\n",
    "    print(fasta)"
   ]
  },
  {
   "cell_type": "markdown",
   "metadata": {},
   "source": [
    "---"
   ]
  },
  {
   "cell_type": "markdown",
   "metadata": {},
   "source": [
    "# Biopythonの使い方"
   ]
  },
  {
   "cell_type": "markdown",
   "metadata": {},
   "source": [
    "Biopythonは生命科学に関するデータを扱うための拡張ライブラリ。ここではBiopythonを使った配列ファイルの処理方法を扱う。\n"
   ]
  },
  {
   "cell_type": "code",
   "execution_count": null,
   "metadata": {},
   "outputs": [],
   "source": [
    "# Biopythonのインポート\n",
    "# SeqIOはFASTA, GenBankなどの配列データの読み書きを行うためのモジュール\n",
    "from Bio import SeqIO"
   ]
  },
  {
   "cell_type": "markdown",
   "metadata": {},
   "source": [
    "## FASTAファイルの読み込み"
   ]
  },
  {
   "cell_type": "code",
   "execution_count": null,
   "metadata": {},
   "outputs": [],
   "source": [
    "fasta_file_name = \"data/s288c.fna\""
   ]
  },
  {
   "cell_type": "code",
   "execution_count": null,
   "metadata": {},
   "outputs": [],
   "source": [
    "records = SeqIO.parse(fasta_file_name, \"fasta\")"
   ]
  },
  {
   "cell_type": "code",
   "execution_count": null,
   "metadata": {},
   "outputs": [],
   "source": [
    "# records は イテレータオブジェクト\n",
    "type(records)"
   ]
  },
  {
   "cell_type": "markdown",
   "metadata": {},
   "source": [
    "イテレータはfor文を使って１件ずつデータを取り出すことができる。リストは全データをメモリに保持しているのに対し、イテレータは一度に１件ずつしかデータを保持していないという違いがある。`list(records)`とすればリストに変換することもできる。  \n",
    "ジェネレータはイテレータの一種。\n"
   ]
  },
  {
   "cell_type": "markdown",
   "metadata": {},
   "source": [
    "for文を使って順次データを取り出す方法以外に、次のようにnext関数を使用する方法がある。"
   ]
  },
  {
   "cell_type": "code",
   "execution_count": null,
   "metadata": {},
   "outputs": [],
   "source": [
    "# 一件目 (0番目) の配列データを取り出す\n",
    "r0 = next(records)"
   ]
  },
  {
   "cell_type": "code",
   "execution_count": null,
   "metadata": {},
   "outputs": [],
   "source": [
    "# 配列データは SeqRecord オブジェクトになっている。\n",
    "# SeqRecord は配列自体の情報の他に、ID, description, アノテーションなども含む。\n",
    "r0"
   ]
  },
  {
   "cell_type": "markdown",
   "metadata": {},
   "source": [
    "nextを繰り返し用いると以降の配列を順次取り出すことができる。前のデータに戻ることはできないので、最初に戻るには`SeqIO.parse`を再び行う必要がある。"
   ]
  },
  {
   "cell_type": "code",
   "execution_count": null,
   "metadata": {},
   "outputs": [],
   "source": [
    "print(r0)"
   ]
  },
  {
   "cell_type": "code",
   "execution_count": null,
   "metadata": {},
   "outputs": [],
   "source": [
    "# 配列ID, descriptionなどの確認、長さは len 関数で取得できる。\n",
    "print(r0.id)\n",
    "print(r0.description)\n",
    "print(len(r0))\n",
    "print(r0.features)  # FASTAファイルなのでアノテーションは含まれていない --> featuresは空"
   ]
  },
  {
   "cell_type": "code",
   "execution_count": null,
   "metadata": {},
   "outputs": [],
   "source": [
    "# 配列を取り出す。\n",
    "r0_seq = r0.seq"
   ]
  },
  {
   "cell_type": "code",
   "execution_count": null,
   "metadata": {},
   "outputs": [],
   "source": [
    "# 配列はSeq型のオブジェクトになっている。\n",
    "r0_seq"
   ]
  },
  {
   "cell_type": "markdown",
   "metadata": {},
   "source": [
    "Seq型オブジェクトは部分配列の切り出し、相補鎖変換 reverse_compliment, 翻訳 translate などの機能を持つ。"
   ]
  },
  {
   "cell_type": "code",
   "execution_count": null,
   "metadata": {},
   "outputs": [],
   "source": [
    "r0_seq[1806:2169]  # 遺伝子コード領域の切り出し。(1807-2169番目の塩基)"
   ]
  },
  {
   "cell_type": "markdown",
   "metadata": {},
   "source": [
    "配列の切り出しはFeatureLocationオブジェクトのextractメソッドを使用する方法もある。  \n",
    "遺伝子がコードされているストランドの切り出しや、複数エクソンから構成される遺伝子配列の切り出しにも対応しているので便利。(後で紹介）"
   ]
  },
  {
   "cell_type": "code",
   "execution_count": null,
   "metadata": {},
   "outputs": [],
   "source": [
    "# 相補鎖変換\n",
    "r0_seq[1806:2169].reverse_complement()"
   ]
  },
  {
   "cell_type": "code",
   "execution_count": null,
   "metadata": {},
   "outputs": [],
   "source": [
    "# 相補鎖変換　→　翻訳\n",
    "r0_seq[1806:2169].reverse_complement().translate()  "
   ]
  },
  {
   "cell_type": "code",
   "execution_count": null,
   "metadata": {
    "scrolled": true
   },
   "outputs": [],
   "source": [
    "# GenBank形式への変換  --> ValueError: missing molecule_type in annotations というエラーが出る\n",
    "print(r0.format(\"genbank\"))"
   ]
  },
  {
   "cell_type": "code",
   "execution_count": null,
   "metadata": {},
   "outputs": [],
   "source": [
    "# エラーを回避するには、molecule_type を指定する必要がある。\n",
    "r0.annotations[\"molecule_type\"] = \"DNA\"\n",
    "print(r0.format(\"genbank\")[:1000])  # 長いので先頭の1000文字だけ表示"
   ]
  },
  {
   "cell_type": "markdown",
   "metadata": {},
   "source": [
    "__\\[参考\\]__ 以前のBiopythonでは ValueError: Need a Nucleotide or Protein alphabet というエラーが出た。  \n",
    "その場以下のようにしてエラーを回避できる。\n",
    "```\n",
    "from Bio.Alphabet import generic_dna\n",
    "records = SeqIO.parse(fasta_file_name, \"fasta\", generic_dna)\n",
    "r0 = next(records)\n",
    "print(r0.format(\"genbank\")[:1000])  # 長いので先頭の1000文字だけ表示\n",
    "```"
   ]
  },
  {
   "cell_type": "markdown",
   "metadata": {},
   "source": [
    "## すべての配列をループで回す"
   ]
  },
  {
   "cell_type": "code",
   "execution_count": null,
   "metadata": {},
   "outputs": [],
   "source": [
    "# recordsはジェネレータなので、リストと同じようにforループで回すことができます。\n",
    "records = SeqIO.parse(fasta_file_name, \"fasta\")\n",
    "for r in records:\n",
    "    print(\"Seq ID=\", r.id)\n",
    "    print(\"Length=\", len(r))\n",
    "    print(r.seq[:50] + \"...\")\n",
    "    print(\"----\")"
   ]
  },
  {
   "cell_type": "code",
   "execution_count": null,
   "metadata": {},
   "outputs": [],
   "source": [
    "# list関数を使うことでも同様のことが可能。(ファイル全体をメモリに読み込むので大きいファイルの扱いには注意)\n",
    "records = list(SeqIO.parse(fasta_file_name, \"fasta\"))"
   ]
  },
  {
   "cell_type": "code",
   "execution_count": null,
   "metadata": {},
   "outputs": [],
   "source": [
    "# リストにした場合には、indexを指定してデータを抽出することが可能。例えば、最後の配列を取り出すには-1を指定する。\n",
    "records[-1]"
   ]
  },
  {
   "cell_type": "markdown",
   "metadata": {},
   "source": [
    "__練習__  \n",
    "s288c株の遺伝子タンパク質配列FASTAファイル（s288c.protein.faa）を読み込み、閾値未満の長さの配列を取り除き、降順（長いもの順）に\n",
    "出力するスクリプトを作成せよ。  \n",
    "下記のテンプレートを使うこと。下にヒントあり。"
   ]
  },
  {
   "cell_type": "code",
   "execution_count": null,
   "metadata": {},
   "outputs": [],
   "source": [
    "protein_fasta_file = \"data/s288c.protein.faa\"\n",
    "records = list(SeqIO.parse(protein_fasta_file, \"fasta\")) \n",
    "threshold = 1000\n",
    "\n",
    "# 閾値未満のものを除く処理を追加\n",
    "# recordsを降順にソートする\n",
    "\n",
    "i = 0\n",
    "for r in records:\n",
    "    print(r)\n",
    "    print(\"Length=\", len(r))\n",
    "    print(\"-----\")\n",
    "    i += 1\n",
    "    if i == 5:\n",
    "        break  # 5件出力した時点で処理を停止する。(画面が溢れるのを防ぐため)"
   ]
  },
  {
   "cell_type": "markdown",
   "metadata": {},
   "source": [
    "__ヒント1__  \n",
    "リスト内包表記を使ったフィルタリング"
   ]
  },
  {
   "cell_type": "code",
   "execution_count": null,
   "metadata": {},
   "outputs": [],
   "source": [
    "# リスト内包表記を使うとリストから新しいリストを生成できる。\n",
    "L = [1, 2, 3, 4, 5]\n",
    "[x*x for x in L]"
   ]
  },
  {
   "cell_type": "code",
   "execution_count": null,
   "metadata": {
    "scrolled": true
   },
   "outputs": [],
   "source": [
    "# 値が3より大きい要素を抽出したリストを生成する\n",
    "L = [1, 2, 3, 4, 5]\n",
    "[x for x in L if x>3]"
   ]
  },
  {
   "cell_type": "markdown",
   "metadata": {},
   "source": [
    "__ヒント２__  \n",
    "keyを指定して様々な方法でソートを行う"
   ]
  },
  {
   "cell_type": "code",
   "execution_count": null,
   "metadata": {},
   "outputs": [],
   "source": [
    "# 文字列の長さでソート\n",
    "L = [\"cat\",  \"horse\", \"buffalo\", \"dog\", \"ox\", \"hippopotamus\", \"tiger\"]\n",
    "sorted(L, key=len, reverse=True)\n"
   ]
  },
  {
   "cell_type": "markdown",
   "metadata": {},
   "source": [
    "keyには\"大小\"や\"順番\"が判定できる値を返す任意の関数を指定することができる。自分で定義した関数を指定することもできる。  \n",
    "下記はlambda式（無名関数）を使った例"
   ]
  },
  {
   "cell_type": "code",
   "execution_count": null,
   "metadata": {},
   "outputs": [],
   "source": [
    "# lambda式を使う例。geneの後の数字部分でソート\n",
    "L = [\"gene_1\", \"gene_10\", \"gene_2\", \"gene_21\", \"gene_101\", ]\n",
    "print(\"普通にソート\", sorted(L))\n",
    "print(\"数字部分でソート\", sorted(L, key=lambda x: int(x.split(\"_\")[1])))"
   ]
  },
  {
   "cell_type": "markdown",
   "metadata": {
    "collapsed": true
   },
   "source": [
    "## ファイルを読み込み、辞書として格納"
   ]
  },
  {
   "cell_type": "markdown",
   "metadata": {},
   "source": [
    "__本講義では詳細は割愛__"
   ]
  },
  {
   "cell_type": "markdown",
   "metadata": {},
   "source": [
    "SeqIO.parseはFASTAファイルに含まれる配列データを前から順にしか扱うことができない。配列データを辞書に格納すると任意の配列を参照することができる (ランダムアクセス)"
   ]
  },
  {
   "cell_type": "code",
   "execution_count": null,
   "metadata": {},
   "outputs": [],
   "source": [
    "# SeqIO.to_dict関数を使うと、配列IDをkeyとした辞書にデータを格納することができる。\n",
    "records = SeqIO.parse(fasta_file_name, \"fasta\")\n",
    "dict_records = SeqIO.to_dict(records)"
   ]
  },
  {
   "cell_type": "code",
   "execution_count": null,
   "metadata": {},
   "outputs": [],
   "source": [
    "# 全17件の辞書ができる\n",
    "len(dict_records)"
   ]
  },
  {
   "cell_type": "code",
   "execution_count": null,
   "metadata": {},
   "outputs": [],
   "source": [
    "dict_records.keys()"
   ]
  },
  {
   "cell_type": "code",
   "execution_count": null,
   "metadata": {},
   "outputs": [],
   "source": [
    "dict_records[\"NC_001224.1\"]"
   ]
  },
  {
   "cell_type": "markdown",
   "metadata": {},
   "source": [
    "上記の方法はファイルに含まれるすべての配列情報をメモリに格納するので、大きなファイルの取り扱いには向いていない。  \n",
    "別の方法としてSeqIO.index関数を使う方法もある。"
   ]
  },
  {
   "cell_type": "code",
   "execution_count": null,
   "metadata": {},
   "outputs": [],
   "source": [
    "idx_records = SeqIO.index(fasta_file_name, \"fasta\")"
   ]
  },
  {
   "cell_type": "code",
   "execution_count": null,
   "metadata": {},
   "outputs": [],
   "source": [
    "# idx_recordsはSeq\n",
    "type(idx_records)"
   ]
  },
  {
   "cell_type": "code",
   "execution_count": null,
   "metadata": {},
   "outputs": [],
   "source": [
    "# idx_recordsは辞書と同じように使用できる。\n",
    "# to_dictと異なりメモリ上にデータを保持していないため、処理速度は若干遅くなる。\n",
    "idx_records.get(\"NC_001224.1\")"
   ]
  },
  {
   "cell_type": "code",
   "execution_count": null,
   "metadata": {},
   "outputs": [],
   "source": [
    "print(idx_records.get_raw(\"NC_001224.1\").decode()[:300])  # get_rawで元の形式のまま取り出せる(長いので先頭300文字のみ表示しています)"
   ]
  },
  {
   "cell_type": "markdown",
   "metadata": {},
   "source": [
    "# GenBankファイルの読み込み`\n",
    "FASTAファイルと同様に SeqIO.parse を利用して読み込み可能。`format=\"genbank\"`を指定する。"
   ]
  },
  {
   "cell_type": "markdown",
   "metadata": {},
   "source": [
    "### GenBank形式ファイル"
   ]
  },
  {
   "cell_type": "markdown",
   "metadata": {},
   "source": [
    "- __NCBI GenBank の公開形式ファイル (flatfile)__\n",
    "    - A. ヘッダー部分  \n",
    "      生物種情報、登録者情報、文献情報、登録日などの情報が含まれる  \n",
    "    - B. アノテーション部分  \n",
    "      配列に対する生物学的記述 (biological feature)  \n",
    "      それぞれの biological feature は位置情報 (location) と、さまざまな属性値 (qualifier) から構成される  \n",
    "      例) 遺伝子領域やリピート領域などの記載  \n",
    "    - C. 配列部分  \n"
   ]
  },
  {
   "cell_type": "markdown",
   "metadata": {},
   "source": [
    "![fig2](img/fig_genbank_format.png)"
   ]
  },
  {
   "cell_type": "markdown",
   "metadata": {},
   "source": [
    "図) 羊土社・実験医学別冊「独習 Pythonバイオ情報解析」より引用"
   ]
  },
  {
   "cell_type": "markdown",
   "metadata": {},
   "source": [
    "## アノテーション情報の確認"
   ]
  },
  {
   "cell_type": "markdown",
   "metadata": {},
   "source": [
    "FASTAファイルの場合と異なり、GenBank形式には配列に対する様々な注釈情報 (アノテーション) が含まれる。  \n",
    "Biopythonを利用すればこれらを簡単に取得することができる。"
   ]
  },
  {
   "cell_type": "code",
   "execution_count": null,
   "metadata": {},
   "outputs": [],
   "source": [
    "gbk_file_name = \"data/s288c.gbk\""
   ]
  },
  {
   "cell_type": "code",
   "execution_count": null,
   "metadata": {},
   "outputs": [],
   "source": [
    "# ここではlist関数を利用して、全データをリストとして読み込んでいる。\n",
    "records = list(SeqIO.parse(gbk_file_name, \"genbank\"))"
   ]
  },
  {
   "cell_type": "code",
   "execution_count": null,
   "metadata": {},
   "outputs": [],
   "source": [
    "# １件目 (0番目)\n",
    "r0 = records[0]"
   ]
  },
  {
   "cell_type": "code",
   "execution_count": null,
   "metadata": {
    "scrolled": false
   },
   "outputs": [],
   "source": [
    "print(dir(r0))"
   ]
  },
  {
   "cell_type": "code",
   "execution_count": null,
   "metadata": {},
   "outputs": [],
   "source": [
    "# FASTAファイルを読み込んだときには空だったannotationsに配列のメタデータが辞書として格納されている。\n",
    "# ここでの \"annotation\" は配列全体に対する生物種情報や登録者情報といったメタデータのことを示す。\n",
    "# 遺伝子領域などの生物学的注釈情報は後述のfeaturesに含まれている。\n",
    "r0.annotations"
   ]
  },
  {
   "cell_type": "code",
   "execution_count": null,
   "metadata": {},
   "outputs": [],
   "source": [
    "# アノテーションされた遺伝子領域の情報はfeaturesにリストとして格納されている。(先頭10件のみ表示)\n",
    "r0.features[:10]"
   ]
  },
  {
   "cell_type": "code",
   "execution_count": null,
   "metadata": {},
   "outputs": [],
   "source": [
    "# 先頭(0番目)のfeatureを取り出す\n",
    "f0 = r0.features[0]"
   ]
  },
  {
   "cell_type": "code",
   "execution_count": null,
   "metadata": {},
   "outputs": [],
   "source": [
    "# 先頭のfeatureはsource feature\n",
    "# source featureはその配列の由来について記述したもので、通常は配列1本について先頭に1件のみ記載される。\n",
    "print(f0)"
   ]
  },
  {
   "cell_type": "code",
   "execution_count": null,
   "metadata": {},
   "outputs": [],
   "source": [
    "# 3-5番目のfeature (gene) を取り出す\n",
    "f3, f4, f5 = r0.features[3:6]"
   ]
  },
  {
   "cell_type": "code",
   "execution_count": null,
   "metadata": {},
   "outputs": [],
   "source": [
    "# featureのおもな構成要素は、type, location, qualifiers \n",
    "# ここでは、gene, mRNA, CDS に同じ、locus_tag　が割り当てられていることから、これらが対応関係にあることがわかる。\n",
    "print(f3)\n",
    "print(f4)\n",
    "print(f5)"
   ]
  },
  {
   "cell_type": "markdown",
   "metadata": {},
   "source": [
    "下記がGenBankファイル中での５番目のfeatureについての記載\n",
    "```\n",
    "     CDS             complement(1807..2169)\n",
    "                     /gene=\"PAU8\"\n",
    "                     /locus_tag=\"YAL068C\"\n",
    "                     /note=\"hypothetical protein; member of the seripauperin\n",
    "                     multigene family encoded mainly in subtelomeric regions\"\n",
    "                     /codon_start=1\n",
    "                     /product=\"seripauperin PAU8\"\n",
    "                     /protein_id=\"NP_009332.1\"\n",
    "                     /db_xref=\"GeneID:851229\"\n",
    "                     /db_xref=\"SGD:S000002142\"\n",
    "                     /translation=\"MVKLTSIAAGVAAIAATASATTTLAQSDERVNLVELGVYVSDIR\n",
    "                     AHLAQYYMFQAAHPTETYPVEVAEAVFNYGDFTTMLTGIAPDQVTRMITGVPWYSSRL\n",
    "                     KPAISSALSKDGIYTIAN\"\n",
    "```\n"
   ]
  },
  {
   "cell_type": "markdown",
   "metadata": {},
   "source": [
    "以下に、上記の記載情報を取り出す方法を説明する。"
   ]
  },
  {
   "cell_type": "code",
   "execution_count": null,
   "metadata": {},
   "outputs": [],
   "source": [
    "# qualifiersは辞書（順番情報を保持したOrderedDict）になっている。\n",
    "f5.qualifiers"
   ]
  },
  {
   "cell_type": "code",
   "execution_count": null,
   "metadata": {},
   "outputs": [],
   "source": [
    "# db_xref情報を取り出す。（関連するDBへの参照情報）\n",
    "# 2件の情報がリストとして格納されていることがわかる。\n",
    "f5.qualifiers[\"db_xref\"]"
   ]
  },
  {
   "cell_type": "code",
   "execution_count": null,
   "metadata": {},
   "outputs": [],
   "source": [
    "# 遺伝子産物名 (product) を確認してみる。\n",
    "f5.qualifiers[\"product\"]"
   ]
  },
  {
   "cell_type": "code",
   "execution_count": null,
   "metadata": {},
   "outputs": [],
   "source": [
    "# 上記結果はリストになっているので文字列として取り出すには f5.qualifiers[\"product\"][0] などとする必要がある。\n",
    "f5.qualifiers[\"product\"][0]"
   ]
  },
  {
   "cell_type": "code",
   "execution_count": null,
   "metadata": {},
   "outputs": [],
   "source": [
    "# 上記の方法だと \"product\" がqaualifierに存在しない場合エラーになる。getを使うと存在しなかった場合には第二引数に指定した値が返されるのでエラーが発生しない。\n",
    "f5.qualifiers.get(\"product\", [\"\"])[0]"
   ]
  },
  {
   "cell_type": "code",
   "execution_count": null,
   "metadata": {},
   "outputs": [],
   "source": [
    "# note に情報を追加する。(リストなのでappendで値を追加する)\n",
    "f5.qualifiers[\"note\"].append(\"Test\")\n",
    "print(f5)"
   ]
  },
  {
   "cell_type": "code",
   "execution_count": null,
   "metadata": {},
   "outputs": [],
   "source": [
    "# locationを確認してみる。\n",
    "# 0を起点としているので、開始位置1806は実際には1807番目の塩基を指す。\n",
    "f5.location"
   ]
  },
  {
   "cell_type": "code",
   "execution_count": null,
   "metadata": {},
   "outputs": [],
   "source": [
    "# locationオブジェクトを利用して配列の切り出しができる。\n",
    "# locationのstrandが -1 の場合には、自動的に相補鎖側が切り出される。\n",
    "# extractメソッドの引数には SeqRecord または Seq オブジェクトどちらを与えてもOK。\n",
    "f5.location.extract(r0.seq)"
   ]
  },
  {
   "cell_type": "code",
   "execution_count": null,
   "metadata": {},
   "outputs": [],
   "source": [
    "# 配列を切り出して翻訳したものを qualifier の \"translation\" に記載された値と比較してみる。\n",
    "print(str(f5.location.extract(r0.seq).translate()))\n",
    "print(f5.qualifiers[\"translation\"][0])"
   ]
  },
  {
   "cell_type": "markdown",
   "metadata": {},
   "source": [
    "#### [TIPS\\] 複数のエクソンから構成される遺伝子の切り出しにも対応している。"
   ]
  },
  {
   "cell_type": "markdown",
   "metadata": {},
   "source": [
    "130番目のfeatureは2つのエクソンから構成されるCDSとなっている。\n",
    "```\n",
    "     CDS             join(87286..87387,87501..87752)\n",
    "                     /gene=\"SNC1\"\n",
    "                     /locus_tag=\"YAL030W\"\n",
    "                     /note=\"Vesicle membrane receptor protein (v-SNARE);\n",
    "                     involved in the fusion between Golgi-derived secretory\n",
    "                     vesicles with the plasma membrane; proposed to be involved\n",
    "                     in endocytosis; member of the synaptobrevin/VAMP family of\n",
    "                     R-type v-SNARE proteins; SNC1 has a paralog, SNC2, that\n",
    "                     arose from the whole genome duplication\"\n",
    "                     /codon_start=1\n",
    "                     /product=\"SNAP receptor SNC1\"\n",
    "                     /protein_id=\"NP_009372.1\"\n",
    "                     /db_xref=\"GeneID:851203\"\n",
    "                     /db_xref=\"SGD:S000000028\"\n",
    "                     /translation=\"MSSSTPFDPYALSEHDEERPQNVQSKSRTAELQAEIDDTVGIMR\n",
    "                     DNINKVAERGERLTSIEDKADNLAVSAQGFKRGANRVRKAMWYKDLKMKMCLALVIII\n",
    "                     LLVVIIVPIAVHFSR\"\n",
    "```"
   ]
  },
  {
   "cell_type": "code",
   "execution_count": null,
   "metadata": {},
   "outputs": [],
   "source": [
    "f130 = r0.features[130]"
   ]
  },
  {
   "cell_type": "markdown",
   "metadata": {},
   "source": [
    "下記のようにエクソン領域を結合して切り出せる。(下記例では翻訳まで行っている)"
   ]
  },
  {
   "cell_type": "code",
   "execution_count": null,
   "metadata": {},
   "outputs": [],
   "source": [
    "f130.location.extract(r0.seq).translate()"
   ]
  },
  {
   "cell_type": "markdown",
   "metadata": {},
   "source": [
    "#### [TIPS] SeqRecord オブジェクトを切り出すと、その領域中のアノテーションも含めて切り出せる。"
   ]
  },
  {
   "cell_type": "code",
   "execution_count": null,
   "metadata": {
    "scrolled": true
   },
   "outputs": [],
   "source": [
    "region_f3 = f3.location.extract(r0)\n",
    "region_f3"
   ]
  },
  {
   "cell_type": "markdown",
   "metadata": {},
   "source": [
    "抽出した領域に含まれる feature 情報も引き継がれ、このとき各 feature の位置情報は抽出した領域に合わせて調整される。"
   ]
  },
  {
   "cell_type": "code",
   "execution_count": null,
   "metadata": {},
   "outputs": [],
   "source": [
    "region_f3.features"
   ]
  },
  {
   "cell_type": "markdown",
   "metadata": {},
   "source": [
    "SeqRecordをスライスした場合もアノテーションも含めて切り出される。"
   ]
  },
  {
   "cell_type": "code",
   "execution_count": null,
   "metadata": {},
   "outputs": [],
   "source": [
    "# ↑に示した1a30番目のfeatureを含んだ領域\n",
    "region_r130 = r0[87285:87752]"
   ]
  },
  {
   "cell_type": "code",
   "execution_count": null,
   "metadata": {},
   "outputs": [],
   "source": [
    "region_r130.features"
   ]
  },
  {
   "cell_type": "markdown",
   "metadata": {},
   "source": [
    "## ファイル全体の feature をループで回す"
   ]
  },
  {
   "cell_type": "markdown",
   "metadata": {},
   "source": [
    "record (entry) --> feature --> qualifier の階層構造になっていることを意識すると良い。"
   ]
  },
  {
   "cell_type": "markdown",
   "metadata": {},
   "source": [
    "例としてCDSフィーチャーの中から全てのアミノ酸配列を辞書として取得する処理を実装する。"
   ]
  },
  {
   "cell_type": "code",
   "execution_count": null,
   "metadata": {},
   "outputs": [],
   "source": [
    "# すべてのアミノ酸配列を辞書として取得 (translationを含まないCDSがあったため失敗した)\n",
    "D = {}\n",
    "for record in SeqIO.parse(gbk_file_name, \"genbank\"):\n",
    "    for feature in record.features:\n",
    "        if feature.type == \"CDS\":\n",
    "            locus_tag = feature.qualifiers[\"locus_tag\"][0]\n",
    "            translation = feature.qualifiers[\"translation\"][0]\n",
    "            D[locus_tag] = translation"
   ]
  },
  {
   "cell_type": "code",
   "execution_count": null,
   "metadata": {},
   "outputs": [],
   "source": [
    "# すべてのアミノ酸配列を辞書として取得 ver2 (try-exceptでエラーを補足し、原因を確認)\n",
    "D = {}\n",
    "for record in SeqIO.parse(gbk_file_name, \"genbank\"):\n",
    "    for feature in record.features:\n",
    "        if feature.type == \"CDS\":\n",
    "            try:\n",
    "                locus_tag = feature.qualifiers[\"locus_tag\"][0]\n",
    "                translation = feature.qualifiers[\"translation\"][0]\n",
    "                D[locus_tag] = translation\n",
    "            except KeyError as e:\n",
    "                # エラーが起こった場合の処理\n",
    "                print(feature) # 問題のあったfeatureを表示\n",
    "                raise e  # 再度、エラーを生じさせて処理を停止させる。\n"
   ]
  },
  {
   "cell_type": "markdown",
   "metadata": {},
   "source": [
    "↑ qualifierに \"pseudo\" という記載がある場合には、translation が存在しないことがエラーの原因であった。  \n",
    "そこで、\"pseudo\" の場合には処理を行わないように変更する。"
   ]
  },
  {
   "cell_type": "code",
   "execution_count": null,
   "metadata": {},
   "outputs": [],
   "source": [
    "# すべてのアミノ酸配列を辞書として取得 ver3 (完成版)\n",
    "D = {}\n",
    "for record in SeqIO.parse(gbk_file_name, \"genbank\"):\n",
    "    for feature in record.features:\n",
    "        if feature.type == \"CDS\":\n",
    "            if \"pseudo\" in feature.qualifiers:\n",
    "                continue\n",
    "            try:\n",
    "                locus_tag = feature.qualifiers[\"locus_tag\"][0]\n",
    "                translation = feature.qualifiers[\"translation\"][0]\n",
    "                D[locus_tag] = translation\n",
    "            except KeyError as e:\n",
    "                print(feature.qualifiers)\n",
    "                raise e\n"
   ]
  },
  {
   "cell_type": "code",
   "execution_count": null,
   "metadata": {},
   "outputs": [],
   "source": [
    "D"
   ]
  },
  {
   "cell_type": "code",
   "execution_count": null,
   "metadata": {},
   "outputs": [],
   "source": [
    "# すべてのアミノ酸配列を辞書として取得 ver4 (改良版)\n",
    "# get 関数を使用してkeyが存在しない場合にも対応\n",
    "D = {}\n",
    "for record in SeqIO.parse(gbk_file_name, \"genbank\"):\n",
    "    for feature in record.features:\n",
    "        locus_tag = feature.qualifiers.get(\"locus_tag\", [\"\"])[0]  # get 関数を使い locus_tag qualifierが存在しない場合には空文字 (\"\") を返す\n",
    "        translation = feature.qualifiers.get(\"translation\", [\"\"])[0]\n",
    "        if locus_tag and translation: # locus_tagおよびtranslationのいずれかが空文字列のときには処理しない\n",
    "            D[locus_tag] = translation"
   ]
  },
  {
   "cell_type": "code",
   "execution_count": null,
   "metadata": {},
   "outputs": [],
   "source": [
    "# getについての補足\n",
    "test_dict = {1:100, 2:200, 3:300}\n",
    "print(test_dict.get(1))  # 100が返る\n",
    "print(test_dict.get(4))  # keyが存在しない場合、None\n",
    "print(test_dict.get(4, 400))  # 第２引数としてkeyが存在しない場合に返る値を指定可能。400が返る。"
   ]
  },
  {
   "cell_type": "markdown",
   "metadata": {},
   "source": [
    "**[練習]**  \n",
    "GenBankファイルの中身をすべてforループで辿り、CDSの塩基配列・ローカスタグ(locus_tag)・遺伝子産物名(product)を取得し、  \n",
    "下記のような FASTA 形式で出力するスクリプトを完成させよ。  \n",
    "ただし product については空欄のものがあれば \"unknown protein\" とすること（getを使う）。  \n",
    "塩基配列は `location.extract` を使って取得できる。  \n",
    "__出力例__\n",
    "\n",
    "```\n",
    ">YAL068C seripauperin PAU8\n",
    "ATGGTCAAATTAACTTCAATCGCCGCTGGTGTCGCTGCCATCGCTGCTACTGCTTCTGCAACCACCACTCTAGCTCAATCTGACGAAAGAGTCAACTTGGTGGAATTGGGTGTCTACGTCTCTGATATCAGAGCTCACTTAGCCCAATACTACATGTTCCAAGCCGCCCACCCAACTGAAACCTACCCAGTCGAAGTTGCTGAAGCCGTTTTCAACTACGGTGACTTCACCACCATGTTGACCGGTATTGCTCCAGACCAAGTGACCAGAATGATCACCGGTGTTCCATGGTACTCCAGCAGATTAAAGCCAGCCATCTCCAGTGCTCTATCCAAGGACGGTATCTACACTATCGCAAACTAG\n",
    ">YAL067W-A hypothetical protein\n",
    "ATGCCAATTATAGGGGTGCCGAGGTGCCTTATAAAACCCTTTTCTGTGCCTGTGACATTTCCTTTTTCGGTCAAAAAGAATATCCGAATTTTAGATTTGGACCCTCGTACAGAAGCTTATTGTCTAAGCCTGAATTCAGTCTGCTTTAAACGGCTTCCGCGGAGGAAATATTTCCATCTCTTGAATTCGTACAACATTAAACGTGTGTTGGGAGTCGTATACTGTTAG\n",
    ">YAL067C putative permease SEO1\n",
    "ATGTATTCAATTGTTAAAGAGATTATTGTAGATCCTTACAAAAGACTAAAATGGGGTTTTATTCCAGTAAAGCGGCAGGTGGAAGACCTGCCAGATGACTTAAATTCAACAGAAATTGTCACTATCTCCAACAGTA...\n",
    "```\n"
   ]
  },
  {
   "cell_type": "code",
   "execution_count": null,
   "metadata": {},
   "outputs": [],
   "source": [
    "i = 0\n",
    "for record in SeqIO.parse(gbk_file_name, \"genbank\"):\n",
    "    for feature in record.features:\n",
    "        if feature.type != \"CDS\":\n",
    "            continue  # CDSでない場合には処理をスキップ    \n",
    "        locus_tag = feature.qualifiers.get(\"locus_tag\", [\"\"])[0]\n",
    "        ### productを取得する処理を追加\n",
    "        ### 塩基配列を取得する処理を追加\n",
    "        i += 1\n",
    "        ### print で出力する処理を追加\n",
    "        if i == 5:  # 動作確認のため5件のみ出力したところで処理を停止\n",
    "            break\n",
    "    break # 動作確認のため最初の配列 (レコード) のみ処理するようにしている。この行を削除すれば全レコードを対象に処理される。"
   ]
  },
  {
   "cell_type": "markdown",
   "metadata": {},
   "source": [
    "# GFFファイルの読み込み"
   ]
  },
  {
   "cell_type": "markdown",
   "metadata": {},
   "source": [
    "__本項は講義では扱いません__"
   ]
  },
  {
   "cell_type": "markdown",
   "metadata": {},
   "source": [
    "以下のコードの実行にはBCBioGFFが必要。\n",
    "```\n",
    "pip install bcbio-gff\n",
    "```\n",
    "または、condaを使用している場合には\n",
    "```\n",
    "conda install -c bioconda bcbiogff\n",
    "```\n",
    "でインストールする。2022年12月現在、pipの場合には ver.0.6.9が、condaの場合には ver.0.6.6 がインストールされた。"
   ]
  },
  {
   "cell_type": "markdown",
   "metadata": {},
   "source": [
    "現状では Biopython 単独ではGFFファイルの読み書きはできないため、BCBioGFFを利用する。  \n",
    "GFF ファイルは GenBank ファイルと同等の情報を保持できるが、ID-Parent を対応づけることによって明示的に gene-mRNA-CDS の階層構造を表現している。[参考](https://github.com/The-Sequence-Ontology/Specifications/blob/master/gff3.md)"
   ]
  },
  {
   "cell_type": "code",
   "execution_count": null,
   "metadata": {},
   "outputs": [],
   "source": [
    "# BCBioのインポート\n",
    "# GFFを扱うためのモジュール (現時点ではBiopythonには含まれていないため、別にインストールする必要がある conda install -c bioconda bcbiogff または pip install bcbio-gff）\n",
    "from BCBio import GFF"
   ]
  },
  {
   "cell_type": "code",
   "execution_count": null,
   "metadata": {},
   "outputs": [],
   "source": [
    "# ここで使うGFFファイルはRNAseq解析用に遺伝子ID(gene_id)情報を付け足している。\n",
    "gff_file_name = \"data/s288c_e.gff\""
   ]
  },
  {
   "cell_type": "code",
   "execution_count": null,
   "metadata": {},
   "outputs": [],
   "source": [
    "records = GFF.parse(open(gff_file_name))"
   ]
  },
  {
   "cell_type": "code",
   "execution_count": null,
   "metadata": {},
   "outputs": [],
   "source": [
    "# 最初の配列の先頭10件のfeatureを表示\n",
    "# GenBankファイルの時とは異なり、mRNAやCDS featureが見えない。\n",
    "# GFFファイルでは mRNA は gene の子フィーチャー \"sub_features\" という扱いになっているため。\n",
    "r0 = next(records)\n",
    "r0.features[:10]"
   ]
  },
  {
   "cell_type": "code",
   "execution_count": null,
   "metadata": {},
   "outputs": [],
   "source": [
    "# 最初の gene feature を取得\n",
    "gene = r0.features[4]"
   ]
  },
  {
   "cell_type": "code",
   "execution_count": null,
   "metadata": {},
   "outputs": [],
   "source": [
    "# sub_featuresの中にmRNA featureが含まれている。\n",
    "# この例ではmRNAは1件のみですが、一つの gene (遺伝子座) に対して複数の mRNA が存在する場合もある。\n",
    "gene.sub_features"
   ]
  },
  {
   "cell_type": "code",
   "execution_count": null,
   "metadata": {},
   "outputs": [],
   "source": [
    "# mRNA featureを取得\n",
    "mrna = gene.sub_features[0]"
   ]
  },
  {
   "cell_type": "code",
   "execution_count": null,
   "metadata": {},
   "outputs": [],
   "source": [
    "# mRNAのsub_featuresを確認\n",
    "# CDS featureとexon featureが含まれている。\n",
    "# sub_featureの種類はファイルによって異なる。CDSのみの場合や、非翻訳領域 (UTR) が含まれている場合もある。\n",
    "mrna.sub_features"
   ]
  },
  {
   "cell_type": "code",
   "execution_count": null,
   "metadata": {},
   "outputs": [],
   "source": [
    "# sub_features の階層構造をたどり、どのようなfeatureが含まれているかを確認してみる。。\n",
    "S=set()\n",
    "for record in GFF.parse(open(gff_file_name)):\n",
    "    if record.id == \"NC_001224.1\":\n",
    "        continue  # ミトコンドリア配列は除外\n",
    "    for f in record.features:\n",
    "        feature_type_1 = f.type\n",
    "        S.add(feature_type_1)\n",
    "        for sf in f.sub_features:\n",
    "            feature_type_2 = feature_type_1 + \" -> \" + sf.type\n",
    "            S.add(feature_type_2)\n",
    "            for ssf in sf.sub_features:\n",
    "                feature_type_3 = feature_type_2 + \" -> \" + ssf.type\n",
    "                S.add(feature_type_3)\n",
    "\n",
    "    "
   ]
  },
  {
   "cell_type": "code",
   "execution_count": null,
   "metadata": {},
   "outputs": [],
   "source": [
    "sorted(list(S), key=lambda x:(x.count(\"->\"), x))  # 階層数でソートしたあと、アルファッベット順でソートして表示している"
   ]
  },
  {
   "cell_type": "markdown",
   "metadata": {
    "collapsed": true
   },
   "source": [
    "## 単元4で使用するアノテーション一覧ファイルの作成方法"
   ]
  },
  {
   "cell_type": "markdown",
   "metadata": {},
   "source": [
    "単元４ではマウスの参照ゲノムGRCm39に対してRNAseqリードをマップして得られた結果をサンプルデータとして用いる。  \n",
    "その際に用いるアノテーション情報の一覧表を作成したスクリプトは以下の通り。  \n",
    "完成版スクリプトファイルは `make_annotation_table_from_gff.py` の名称で本ディレクトリ内に置いてある。"
   ]
  },
  {
   "cell_type": "markdown",
   "metadata": {},
   "source": [
    "GFFファイル中の属性値中の `;`や`,`など一部の記号はURLエンコーディングされているので `urllib.parse.unquote` でデコードしている。"
   ]
  },
  {
   "cell_type": "markdown",
   "metadata": {
    "collapsed": true
   },
   "source": [
    "```\n",
    "import gzip\n",
    "import urllib.parse\n",
    "from BCBio import GFF\n",
    "\n",
    "gff_file_name = \"Mus_musculus.GRCm39.108.gff3.gz\"\n",
    "\n",
    "for record in GFF.parse(gzip.open(gff_file_name, \"rt\")):\n",
    "    for f in record.features:\n",
    "        if f.type == \"gene\":\n",
    "            gene_id = f.qualifiers[\"ID\"][0].replace(\"gene:\", \"\")\n",
    "            # Name と description 属性を持たない場合があるので get を使って値を取得する。\n",
    "            gene_name = f.qualifiers.get(\"Name\", [\"NO_NAME\"])[0]\n",
    "            description = urllib.parse.unquote(f.qualifiers.get(\"description\", [\"-\"])[0])\n",
    "            for sf in f.sub_features:\n",
    "                if sf.type == \"mRNA\":\n",
    "                    transcript_id = sf.qualifiers[\"ID\"][0].replace(\"transcript:\", \"\")\n",
    "                    version = sf.qualifiers[\"version\"][0]\n",
    "                    print(\"\\t\".join([transcript_id + \".\" + version, gene_id, gene_name, description]))\n",
    "```"
   ]
  },
  {
   "cell_type": "markdown",
   "metadata": {},
   "source": [
    "__実行方法__　　\n",
    "\n",
    "マウスゲノムのGFFファイルは\n",
    "```\n",
    "curl -O https://ftp.ensembl.org/pub/release-108/gff3/mus_musculus/Mus_musculus.GRCm39.108.gff3.gz\n",
    "```\n",
    "で取得しておく。  \n",
    "結果は標準出力に出力されるのでファイルにリダイレクトして結果を保存する。\n",
    "```\n",
    "python make_annotation_table_from_gff.py > annotation.tsv\n",
    "```"
   ]
  },
  {
   "cell_type": "markdown",
   "metadata": {},
   "source": [
    "## BLAST結果ファイルの処理"
   ]
  },
  {
   "cell_type": "markdown",
   "metadata": {},
   "source": [
    "参考) [Biopython Tutorial and Cookbook](http://biopython.org/DIST/docs/tutorial/Tutorial.html#sec129)"
   ]
  },
  {
   "cell_type": "markdown",
   "metadata": {},
   "source": [
    "BLASTの出力結果例 (`-outfmt 6`)   \n",
    "各列は左から、query, subject, % identity, alignment length, mismatches, gap opens, query_start, query_end, subject_start, subject_end, evalue, bit score  \n",
    "\n",
    "```\n",
    "query_A\tgene_0001\t38.444\t450\t254\t7\t8\t440\t8\t451\t1.96e-90\t278\n",
    "query_B\tgene_2155\t75.309\t891\t217\t2\t13\t900\t13\t903\t0.0\t1405\n",
    "query_B\tgene_1608\t21.091\t275\t192\t9\t34\t290\t9\t276\t3.11e-06\t46.2\n",
    "query_C\tgene_1111\t67.282\t813\t262\t2\t4\t816\t1\t809\t0.0\t1098\n",
    "query_C\tgene_0984\t40.559\t752\t425\t8\t7\t749\t2\t740\t0.0\t555\n",
    "query_C\tgene_0984\t24.336\t226\t146\t6\t593\t804\t481\t695\t1.03e-07\t51.6\n",
    "```"
   ]
  },
  {
   "cell_type": "markdown",
   "metadata": {},
   "source": [
    "BiopythonでBLASTの実行結果を処理するためにはXML形式で結果を出力する必要がある (`-outfmt 7`)。  \n",
    "下記は↑で挙げた結果例をXML形式ファイルで出力したもの。"
   ]
  },
  {
   "cell_type": "code",
   "execution_count": null,
   "metadata": {},
   "outputs": [],
   "source": [
    "! head -100 data/blast.xml"
   ]
  },
  {
   "cell_type": "markdown",
   "metadata": {},
   "source": [
    "XML形式ファイルは↓の模式図で示したような階層構造になっている。  \n",
    "Biopythonで結果を処理する場合にもこの構造を模したオブジェクトにデータが格納される。"
   ]
  },
  {
   "cell_type": "markdown",
   "metadata": {},
   "source": [
    "![fig2](img/fig_blast.png)"
   ]
  },
  {
   "cell_type": "markdown",
   "metadata": {},
   "source": [
    "BLASTの結果を処理するために NCBIXML モジュールをインポートする。"
   ]
  },
  {
   "cell_type": "code",
   "execution_count": null,
   "metadata": {},
   "outputs": [],
   "source": [
    "from Bio.Blast import NCBIXML"
   ]
  },
  {
   "cell_type": "code",
   "execution_count": null,
   "metadata": {},
   "outputs": [],
   "source": [
    "blast_xml_file = \"data/blast.xml\""
   ]
  },
  {
   "cell_type": "markdown",
   "metadata": {},
   "source": [
    "BLASTオブジェクト - Alignment オブジェクト - HSP オブジェクトという階層構造になっているので for ループで結果を全て辿る。"
   ]
  },
  {
   "cell_type": "code",
   "execution_count": null,
   "metadata": {},
   "outputs": [],
   "source": [
    "blast_records = NCBIXML.parse(open(blast_xml_file))\n",
    "for blast_record in blast_records:\n",
    "    print(f\"Query: {blast_record.query} (Length={blast_record.query_length})\")\n",
    "    print(\"\\t\" + \"-\" * 40)\n",
    "    for alignment in blast_record.alignments:\n",
    "        print(f\"\\tSubject: {alignment.hit_id}, Definition: {alignment.hit_def} (Length={alignment.length})\") \n",
    "        for i, hsp in enumerate(alignment.hsps, 1):\n",
    "            print(f\"\\t\\tHSP{i}: QueryHit={hsp.query_start}-{hsp.query_end} SubjectHit={hsp.sbjct_start}-{hsp.sbjct_end} \" +\n",
    "                  f\"Score={hsp.bits} e-value={hsp.expect}\")\n",
    "\n",
    "    print(\"=\" * 80)"
   ]
  },
  {
   "cell_type": "markdown",
   "metadata": {},
   "source": [
    "AlignmentオブジェクトやHSPオブジェクトがどのような情報を保持しているかは、Biopythonの[APIドキュメント](https://biopython.org/docs/latest/api/Bio.Blast.Record.html) を参照。`dir(alignment)` や `dir(HSP)` などで調べても良い。"
   ]
  },
  {
   "cell_type": "code",
   "execution_count": null,
   "metadata": {},
   "outputs": [],
   "source": []
  }
 ],
 "metadata": {
  "kernelspec": {
   "display_name": "Python 3 (ipykernel)",
   "language": "python",
   "name": "python3"
  },
  "language_info": {
   "codemirror_mode": {
    "name": "ipython",
    "version": 3
   },
   "file_extension": ".py",
   "mimetype": "text/x-python",
   "name": "python",
   "nbconvert_exporter": "python",
   "pygments_lexer": "ipython3",
   "version": "3.9.15"
  },
  "toc": {
   "colors": {
    "hover_highlight": "#DAA520",
    "running_highlight": "#FF0000",
    "selected_highlight": "#FFD700"
   },
   "moveMenuLeft": true,
   "nav_menu": {
    "height": "84px",
    "width": "253px"
   },
   "navigate_menu": true,
   "number_sections": true,
   "sideBar": true,
   "threshold": 4,
   "toc_cell": false,
   "toc_section_display": "block",
   "toc_window_display": false
  },
  "varInspector": {
   "cols": {
    "lenName": 16,
    "lenType": 16,
    "lenVar": 40
   },
   "kernels_config": {
    "python": {
     "delete_cmd_postfix": "",
     "delete_cmd_prefix": "del ",
     "library": "var_list.py",
     "varRefreshCmd": "print(var_dic_list())"
    },
    "r": {
     "delete_cmd_postfix": ") ",
     "delete_cmd_prefix": "rm(",
     "library": "var_list.r",
     "varRefreshCmd": "cat(var_dic_list()) "
    }
   },
   "types_to_exclude": [
    "module",
    "function",
    "builtin_function_or_method",
    "instance",
    "_Feature"
   ],
   "window_display": false
  }
 },
 "nbformat": 4,
 "nbformat_minor": 2
}
